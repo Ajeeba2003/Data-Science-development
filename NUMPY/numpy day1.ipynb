{
 "cells": [
  {
   "cell_type": "code",
   "execution_count": 1,
   "id": "476e10e0-3798-4d8a-a4da-b9cf60da678a",
   "metadata": {},
   "outputs": [
    {
     "name": "stdout",
     "output_type": "stream",
     "text": [
      "Requirement already satisfied: numpy in c:\\users\\hp\\anaconda3\\lib\\site-packages (1.26.4)\n",
      "Note: you may need to restart the kernel to use updated packages.\n"
     ]
    }
   ],
   "source": [
    "pip install numpy\n"
   ]
  },
  {
   "cell_type": "code",
   "execution_count": 3,
   "id": "ab9d9b35-fe93-40a2-b733-8622ae172846",
   "metadata": {},
   "outputs": [],
   "source": [
    "import numpy as np\n"
   ]
  },
  {
   "cell_type": "code",
   "execution_count": 5,
   "id": "1ff756b6-61fe-414a-acee-45d6d684c2e1",
   "metadata": {},
   "outputs": [
    {
     "name": "stdout",
     "output_type": "stream",
     "text": [
      "[1 2 3 4]\n"
     ]
    }
   ],
   "source": [
    "a=np.array([1,2,3,4])\n",
    "print(a)#one dimensional array"
   ]
  },
  {
   "cell_type": "code",
   "execution_count": 7,
   "id": "9f343a54-fcd6-44f6-b8ef-0252697f9f9d",
   "metadata": {},
   "outputs": [
    {
     "data": {
      "text/plain": [
       "array(34)"
      ]
     },
     "execution_count": 7,
     "metadata": {},
     "output_type": "execute_result"
    }
   ],
   "source": [
    "c=np.array(34)\n",
    "c #zero dimensional array"
   ]
  },
  {
   "cell_type": "code",
   "execution_count": 11,
   "id": "c24865b6-66a5-4f88-bed7-57d8e32079c1",
   "metadata": {},
   "outputs": [
    {
     "name": "stdout",
     "output_type": "stream",
     "text": [
      "[1 2 3 4]\n"
     ]
    }
   ],
   "source": [
    "b=np.array((1,2,3,4))\n",
    "print(b)"
   ]
  },
  {
   "cell_type": "code",
   "execution_count": 13,
   "id": "6d969d00-b4d2-480b-a9a0-731ec81b4e0e",
   "metadata": {},
   "outputs": [
    {
     "name": "stdout",
     "output_type": "stream",
     "text": [
      "<class 'list'>\n"
     ]
    }
   ],
   "source": [
    "d=[6,7,8]\n",
    "print(type(d))"
   ]
  },
  {
   "cell_type": "code",
   "execution_count": 15,
   "id": "a464374d-3bcf-412c-bbf3-b4f57b23d27d",
   "metadata": {},
   "outputs": [
    {
     "name": "stdout",
     "output_type": "stream",
     "text": [
      "<class 'numpy.ndarray'>\n"
     ]
    }
   ],
   "source": [
    "print(type(a))"
   ]
  },
  {
   "cell_type": "code",
   "execution_count": 17,
   "id": "f356a9ea-e95f-4c9b-936d-d5733848fc86",
   "metadata": {},
   "outputs": [
    {
     "name": "stdout",
     "output_type": "stream",
     "text": [
      "<class 'numpy.ndarray'>\n"
     ]
    }
   ],
   "source": [
    "print(type(c))"
   ]
  },
  {
   "cell_type": "code",
   "execution_count": 25,
   "id": "af137bbf-20c1-49a5-b64e-8e22af15def8",
   "metadata": {},
   "outputs": [
    {
     "name": "stdout",
     "output_type": "stream",
     "text": [
      "[[1 2 3]\n",
      " [4 5 6]\n",
      " [7 8 9]]\n"
     ]
    }
   ],
   "source": [
    "r=np.array([[1,2,3],[4,5,6],[7,8,9]])\n",
    "print(r)"
   ]
  },
  {
   "cell_type": "code",
   "execution_count": 27,
   "id": "11807193-d722-4da5-ad7e-5f43db28cf60",
   "metadata": {},
   "outputs": [
    {
     "data": {
      "text/plain": [
       "array([[ 1,  2,  3,  4],\n",
       "       [ 5,  6,  7,  8],\n",
       "       [ 9, 10, 11, 12]])"
      ]
     },
     "execution_count": 27,
     "metadata": {},
     "output_type": "execute_result"
    }
   ],
   "source": [
    "s=np.array([[1,2,3,4],[5,6,7,8],[9,10,11,12]])\n",
    "s"
   ]
  },
  {
   "cell_type": "code",
   "execution_count": 29,
   "id": "dd8fdee1-381d-4f03-a49d-096a60ad9c7b",
   "metadata": {},
   "outputs": [
    {
     "data": {
      "text/plain": [
       "array([[ 1,  2,  3],\n",
       "       [ 4,  5,  6],\n",
       "       [ 7,  8,  9],\n",
       "       [10, 11, 12]])"
      ]
     },
     "execution_count": 29,
     "metadata": {},
     "output_type": "execute_result"
    }
   ],
   "source": [
    "g=np.array([[1,2,3],[4,5,6],[7,8,9],[10,11,12]])\n",
    "g"
   ]
  },
  {
   "cell_type": "code",
   "execution_count": 31,
   "id": "f06d01fd-aa8a-4e88-9bb4-426bab6d2525",
   "metadata": {},
   "outputs": [
    {
     "data": {
      "text/plain": [
       "array([[1, 2, 3],\n",
       "       [4, 5, 6],\n",
       "       [5, 6, 7]])"
      ]
     },
     "execution_count": 31,
     "metadata": {},
     "output_type": "execute_result"
    }
   ],
   "source": [
    "h=np.array(((1,2,3),(4,5,6),(5,6,7)))\n",
    "h"
   ]
  },
  {
   "cell_type": "code",
   "execution_count": 39,
   "id": "60917d09-9dd1-4f45-8e88-2b26f5a5f1e1",
   "metadata": {},
   "outputs": [
    {
     "data": {
      "text/plain": [
       "array([[[1, 2, 3],\n",
       "        [1, 2, 3],\n",
       "        [2, 3, 4]],\n",
       "\n",
       "       [[4, 5, 6],\n",
       "        [6, 7, 8],\n",
       "        [5, 6, 7]],\n",
       "\n",
       "       [[1, 2, 3],\n",
       "        [4, 5, 6],\n",
       "        [5, 6, 7]]])"
      ]
     },
     "execution_count": 39,
     "metadata": {},
     "output_type": "execute_result"
    }
   ],
   "source": [
    "#3-dimensional\n",
    "t=np.array([[[1,2,3],[1,2,3],[2,3,4]],[[4,5,6],[6,7,8],[5,6,7]],[[1,2,3],[4,5,6],[5,6,7]]])\n",
    "t"
   ]
  },
  {
   "cell_type": "code",
   "execution_count": 43,
   "id": "e1ff5e42-ad9d-498f-9d97-e2575ded786b",
   "metadata": {},
   "outputs": [
    {
     "name": "stdout",
     "output_type": "stream",
     "text": [
      "[[[1 2]\n",
      "  [2 4]]\n",
      "\n",
      " [[4 5]\n",
      "  [2 3]]\n",
      "\n",
      " [[9 8]\n",
      "  [6 7]]]\n"
     ]
    }
   ],
   "source": [
    "g=np.array((((1,2),(2,4)),((4,5),(2,3)),((9,8),(6,7))))\n",
    "print(g)"
   ]
  },
  {
   "cell_type": "code",
   "execution_count": 47,
   "id": "3ef29560-dcfb-412e-bdcf-5a4d29183720",
   "metadata": {},
   "outputs": [
    {
     "name": "stdout",
     "output_type": "stream",
     "text": [
      "[[[1 2 3]\n",
      "  [2 4 7]]\n",
      "\n",
      " [[4 5 6]\n",
      "  [2 3 7]]\n",
      "\n",
      " [[9 8 5]\n",
      "  [6 7 8]]]\n"
     ]
    }
   ],
   "source": [
    "h=np.array((((1,2,3),(2,4,7)),((4,5,6),(2,3,7)),((9,8,5),(6,7,8))))\n",
    "print(h)"
   ]
  },
  {
   "cell_type": "code",
   "execution_count": 51,
   "id": "9338c2a1-deb4-4e8d-9c63-b0b316a6c037",
   "metadata": {},
   "outputs": [
    {
     "data": {
      "text/plain": [
       "3"
      ]
     },
     "execution_count": 51,
     "metadata": {},
     "output_type": "execute_result"
    }
   ],
   "source": [
    "g=np.array((((1,2),(2,4)),((4,5),(2,3)),((9,8),(6,7))))\n",
    "g.ndim"
   ]
  },
  {
   "cell_type": "code",
   "execution_count": 60,
   "id": "7a6c24a4-8aa8-4371-986e-1c53d55b7fed",
   "metadata": {},
   "outputs": [
    {
     "data": {
      "text/plain": [
       "array([[[[[1, 2, 3, 4]]]]])"
      ]
     },
     "execution_count": 60,
     "metadata": {},
     "output_type": "execute_result"
    }
   ],
   "source": [
    "a=np.array([1,2,3,4],ndmin=5)\n",
    "a"
   ]
  },
  {
   "cell_type": "code",
   "execution_count": 62,
   "id": "8f24abb4-6cc1-4f0c-8e71-b42759919d30",
   "metadata": {},
   "outputs": [
    {
     "data": {
      "text/plain": [
       "array([[[[[1, 2],\n",
       "          [3, 4]]]]])"
      ]
     },
     "execution_count": 62,
     "metadata": {},
     "output_type": "execute_result"
    }
   ],
   "source": [
    "a=np.array([[1,2],[3,4]],ndmin=5)\n",
    "a"
   ]
  },
  {
   "cell_type": "code",
   "execution_count": 1,
   "id": "d1d7213f-bbc3-40ba-9d0b-e90aefbdcfad",
   "metadata": {},
   "outputs": [
    {
     "name": "stdout",
     "output_type": "stream",
     "text": [
      "[[[1 2]\n",
      "  [1 3]]\n",
      "\n",
      " [[1 2]\n",
      "  [1 2]]]\n"
     ]
    }
   ],
   "source": [
    "import numpy as np\n",
    "a=np.array([[[1,2],[1,3]],[[1,2],[1,2]]])\n",
    "print(a)"
   ]
  },
  {
   "cell_type": "code",
   "execution_count": 3,
   "id": "5b8e1ef9-00fe-4a3a-accb-ec8cc43588ea",
   "metadata": {},
   "outputs": [
    {
     "data": {
      "text/plain": [
       "3"
      ]
     },
     "execution_count": 3,
     "metadata": {},
     "output_type": "execute_result"
    }
   ],
   "source": [
    "a=np.array([[[1,2],[1,3]],[[1,2],[1,2]]])\n",
    "a.ndim"
   ]
  },
  {
   "cell_type": "code",
   "execution_count": 7,
   "id": "701b14ba-70c1-4749-827d-72206f9df17e",
   "metadata": {},
   "outputs": [
    {
     "data": {
      "text/plain": [
       "3"
      ]
     },
     "execution_count": 7,
     "metadata": {},
     "output_type": "execute_result"
    }
   ],
   "source": [
    "arr=np.array([[1,2,3,4],[4,5,6,7]])\n",
    "arr[0,2]"
   ]
  },
  {
   "cell_type": "code",
   "execution_count": 15,
   "id": "534c4054-f64a-403d-a07d-f1cc513bc63d",
   "metadata": {},
   "outputs": [
    {
     "data": {
      "text/plain": [
       "8"
      ]
     },
     "execution_count": 15,
     "metadata": {},
     "output_type": "execute_result"
    }
   ],
   "source": [
    "arr1=np.array([[1,2,3,4,5],[6,7,8,9,10]])\n",
    "arr1[1,2]"
   ]
  },
  {
   "cell_type": "code",
   "execution_count": 17,
   "id": "d26e1e09-410e-4194-90f2-0d993dceb97e",
   "metadata": {},
   "outputs": [
    {
     "name": "stdout",
     "output_type": "stream",
     "text": [
      "[[[ 1  2  3]\n",
      "  [ 4  5  6]]\n",
      "\n",
      " [[ 7  8  9]\n",
      "  [10 11 12]]]\n"
     ]
    }
   ],
   "source": [
    "arra3=np.array([[[1,2,3],[4,5,6]],[[7,8,9],[10,11,12]]])\n",
    "print(arra3)"
   ]
  },
  {
   "cell_type": "code",
   "execution_count": 19,
   "id": "fa70de7d-dee6-43ae-8a1d-88d53f019a2a",
   "metadata": {},
   "outputs": [
    {
     "data": {
      "text/plain": [
       "8"
      ]
     },
     "execution_count": 19,
     "metadata": {},
     "output_type": "execute_result"
    }
   ],
   "source": [
    "arra3[1,0,1]"
   ]
  },
  {
   "cell_type": "code",
   "execution_count": 23,
   "id": "e3f97f44-e003-47f3-a36f-7aef9d461178",
   "metadata": {},
   "outputs": [
    {
     "data": {
      "text/plain": [
       "6"
      ]
     },
     "execution_count": 23,
     "metadata": {},
     "output_type": "execute_result"
    }
   ],
   "source": [
    "arra3[0,1,2]"
   ]
  },
  {
   "cell_type": "code",
   "execution_count": 25,
   "id": "809a1646-5ace-4546-8329-27188e67316c",
   "metadata": {},
   "outputs": [
    {
     "data": {
      "text/plain": [
       "9"
      ]
     },
     "execution_count": 25,
     "metadata": {},
     "output_type": "execute_result"
    }
   ],
   "source": [
    "arra3[1,0,2]"
   ]
  },
  {
   "cell_type": "code",
   "execution_count": 27,
   "id": "a8637cec-27bf-44d8-b40a-89798afb7c7f",
   "metadata": {},
   "outputs": [
    {
     "data": {
      "text/plain": [
       "9"
      ]
     },
     "execution_count": 27,
     "metadata": {},
     "output_type": "execute_result"
    }
   ],
   "source": [
    "a=np.array([1,2,3,4])\n",
    "b=np.array([5,6,7,8])\n",
    "a[1]+b[2]"
   ]
  },
  {
   "cell_type": "code",
   "execution_count": 37,
   "id": "c60c4ab1-ecea-4a02-bb68-262de77251df",
   "metadata": {},
   "outputs": [
    {
     "data": {
      "text/plain": [
       "array([[1, 2, 3],\n",
       "       [4, 5, 6]])"
      ]
     },
     "execution_count": 37,
     "metadata": {},
     "output_type": "execute_result"
    }
   ],
   "source": [
    "arra1=np.array([[1,2,3],[4,5,6]])\n",
    "arra1\n"
   ]
  },
  {
   "cell_type": "code",
   "execution_count": 39,
   "id": "e66e6da9-92db-4ff8-a8ae-d088b0ef3823",
   "metadata": {},
   "outputs": [
    {
     "data": {
      "text/plain": [
       "8"
      ]
     },
     "execution_count": 39,
     "metadata": {},
     "output_type": "execute_result"
    }
   ],
   "source": [
    "arra1[0,2]+arra1[1,1]"
   ]
  },
  {
   "cell_type": "code",
   "execution_count": 41,
   "id": "e7d3f198-84b7-43d8-8ddb-17e09a5b68b2",
   "metadata": {},
   "outputs": [
    {
     "data": {
      "text/plain": [
       "8"
      ]
     },
     "execution_count": 41,
     "metadata": {},
     "output_type": "execute_result"
    }
   ],
   "source": [
    "# to get last element\n",
    "a=np.array([4,5,6,7,8])\n",
    "a[-1]\n"
   ]
  },
  {
   "cell_type": "code",
   "execution_count": 45,
   "id": "f152968f-bc84-492a-964f-88b38415d886",
   "metadata": {},
   "outputs": [
    {
     "data": {
      "text/plain": [
       "6"
      ]
     },
     "execution_count": 45,
     "metadata": {},
     "output_type": "execute_result"
    }
   ],
   "source": [
    "arra1[1,-1]"
   ]
  },
  {
   "cell_type": "code",
   "execution_count": 47,
   "id": "d9eeea8b-f2f9-49e1-9dcb-5fa85624f187",
   "metadata": {},
   "outputs": [
    {
     "data": {
      "text/plain": [
       "6"
      ]
     },
     "execution_count": 47,
     "metadata": {},
     "output_type": "execute_result"
    }
   ],
   "source": [
    "arra1[-1,-1]"
   ]
  },
  {
   "cell_type": "code",
   "execution_count": 51,
   "id": "f6b7218a-c8e0-4b47-8e45-2b2a605bd726",
   "metadata": {},
   "outputs": [
    {
     "data": {
      "text/plain": [
       "6"
      ]
     },
     "execution_count": 51,
     "metadata": {},
     "output_type": "execute_result"
    }
   ],
   "source": [
    "arra3=np.array([[[1,2,3],[4,5,6]],[[7,8,9],[10,11,12]]])\n",
    "arra3[0,1,-1]"
   ]
  },
  {
   "cell_type": "code",
   "execution_count": 57,
   "id": "a4d152b1-3be4-4d6a-bcbb-9a7073ad2b57",
   "metadata": {},
   "outputs": [
    {
     "data": {
      "text/plain": [
       "array([8, 7])"
      ]
     },
     "execution_count": 57,
     "metadata": {},
     "output_type": "execute_result"
    }
   ],
   "source": [
    "aray=np.array([10,9,8,7,6])\n",
    "aray[2:4]"
   ]
  },
  {
   "cell_type": "code",
   "execution_count": 61,
   "id": "8559443b-4ed5-4e14-a40e-05667b3b6f6c",
   "metadata": {},
   "outputs": [
    {
     "data": {
      "text/plain": [
       "array([9, 7])"
      ]
     },
     "execution_count": 61,
     "metadata": {},
     "output_type": "execute_result"
    }
   ],
   "source": [
    "aray[1:5:2]"
   ]
  },
  {
   "cell_type": "code",
   "execution_count": 63,
   "id": "dea80569-c91b-4d20-8b3c-18ca89eab3de",
   "metadata": {},
   "outputs": [
    {
     "data": {
      "text/plain": [
       "array([9, 8, 7, 6])"
      ]
     },
     "execution_count": 63,
     "metadata": {},
     "output_type": "execute_result"
    }
   ],
   "source": [
    "aray[1:]"
   ]
  },
  {
   "cell_type": "code",
   "execution_count": 71,
   "id": "a64188ef-823a-4aae-b34f-c5595a6fc069",
   "metadata": {},
   "outputs": [
    {
     "data": {
      "text/plain": [
       "array([[ 1,  2,  3,  4],\n",
       "       [ 5,  6,  7,  8],\n",
       "       [ 9, 10, 11, 12]])"
      ]
     },
     "execution_count": 71,
     "metadata": {},
     "output_type": "execute_result"
    }
   ],
   "source": [
    "arra=np.array([[1,2,3,4],[5,6,7,8],[9,10,11,12]])\n",
    "arra"
   ]
  },
  {
   "cell_type": "code",
   "execution_count": 75,
   "id": "c5fc80cf-379b-4625-bc1d-251b3592452b",
   "metadata": {},
   "outputs": [
    {
     "data": {
      "text/plain": [
       "array([ 9, 10, 11, 12])"
      ]
     },
     "execution_count": 75,
     "metadata": {},
     "output_type": "execute_result"
    }
   ],
   "source": [
    "arra[2,0:]"
   ]
  },
  {
   "cell_type": "code",
   "execution_count": 77,
   "id": "000bf224-045a-4c4a-add0-73e8fc0a78ce",
   "metadata": {},
   "outputs": [
    {
     "data": {
      "text/plain": [
       "array([1, 2, 3, 4])"
      ]
     },
     "execution_count": 77,
     "metadata": {},
     "output_type": "execute_result"
    }
   ],
   "source": [
    "arra[0,:]"
   ]
  },
  {
   "cell_type": "code",
   "execution_count": 79,
   "id": "8fe07da0-2872-478c-b3a9-1c056e1051a9",
   "metadata": {},
   "outputs": [
    {
     "data": {
      "text/plain": [
       "array([6, 8])"
      ]
     },
     "execution_count": 79,
     "metadata": {},
     "output_type": "execute_result"
    }
   ],
   "source": [
    "arra[1,1:4:2]"
   ]
  },
  {
   "cell_type": "code",
   "execution_count": 89,
   "id": "4dc02509-831a-46dc-84cb-9a36896eef69",
   "metadata": {},
   "outputs": [
    {
     "data": {
      "text/plain": [
       "array([[ 2,  3,  4],\n",
       "       [ 6,  7,  8],\n",
       "       [10, 11, 12]])"
      ]
     },
     "execution_count": 89,
     "metadata": {},
     "output_type": "execute_result"
    }
   ],
   "source": [
    "arra[0:,1:]"
   ]
  },
  {
   "cell_type": "code",
   "execution_count": 91,
   "id": "cbfe5e59-995a-43d0-a193-134c98524808",
   "metadata": {},
   "outputs": [
    {
     "data": {
      "text/plain": [
       "array([[ 2,  3,  4],\n",
       "       [ 6,  7,  8],\n",
       "       [10, 11, 12]])"
      ]
     },
     "execution_count": 91,
     "metadata": {},
     "output_type": "execute_result"
    }
   ],
   "source": [
    "arra[:,1:]"
   ]
  },
  {
   "cell_type": "code",
   "execution_count": 93,
   "id": "9435d065-5040-459b-ae5c-f5f20c02423b",
   "metadata": {},
   "outputs": [
    {
     "data": {
      "text/plain": [
       "array([[ 6,  7,  8],\n",
       "       [10, 11, 12]])"
      ]
     },
     "execution_count": 93,
     "metadata": {},
     "output_type": "execute_result"
    }
   ],
   "source": [
    "arra[1:,1:]"
   ]
  },
  {
   "cell_type": "code",
   "execution_count": 95,
   "id": "0a5a3d48-330f-422d-a39b-001b44bb4d59",
   "metadata": {},
   "outputs": [
    {
     "data": {
      "text/plain": [
       "array([7, 8, 9])"
      ]
     },
     "execution_count": 95,
     "metadata": {},
     "output_type": "execute_result"
    }
   ],
   "source": [
    "arra3[1,0,:]"
   ]
  },
  {
   "cell_type": "code",
   "execution_count": 97,
   "id": "d95c33bd-35e0-4e8d-9ed6-aeb3bf488f18",
   "metadata": {},
   "outputs": [
    {
     "data": {
      "text/plain": [
       "array([[[ 6]],\n",
       "\n",
       "       [[12]]])"
      ]
     },
     "execution_count": 97,
     "metadata": {},
     "output_type": "execute_result"
    }
   ],
   "source": [
    "arra3[:,1:,2:]"
   ]
  },
  {
   "cell_type": "code",
   "execution_count": 103,
   "id": "51c2621b-70ec-4e46-b08b-af54dc4ebf40",
   "metadata": {},
   "outputs": [
    {
     "data": {
      "text/plain": [
       "array([11, 12])"
      ]
     },
     "execution_count": 103,
     "metadata": {},
     "output_type": "execute_result"
    }
   ],
   "source": [
    "arra2=np.array([[1,2,3,4],[5,6,7,8],[9,10,11,12]])\n",
    "arra2[2,2:4]"
   ]
  },
  {
   "cell_type": "code",
   "execution_count": 111,
   "id": "24cbef9a-2517-4e03-ab0a-cdeb8c78096b",
   "metadata": {},
   "outputs": [
    {
     "data": {
      "text/plain": [
       "array([[ 2,  4],\n",
       "       [ 6,  8],\n",
       "       [10, 12]])"
      ]
     },
     "execution_count": 111,
     "metadata": {},
     "output_type": "execute_result"
    }
   ],
   "source": [
    "arra2[:,1:4:2]"
   ]
  },
  {
   "cell_type": "code",
   "execution_count": 117,
   "id": "e535f3a8-bbd8-40dd-84db-98f53ec01204",
   "metadata": {},
   "outputs": [
    {
     "data": {
      "text/plain": [
       "array([1, 3, 5])"
      ]
     },
     "execution_count": 117,
     "metadata": {},
     "output_type": "execute_result"
    }
   ],
   "source": [
    "ar2=np.array([[1,2,3,4,5],[6,7,8,9,10]])\n",
    "ar2[0,0:5:2]"
   ]
  },
  {
   "cell_type": "code",
   "execution_count": 119,
   "id": "80f71585-3824-48fb-bd95-d40971ba174c",
   "metadata": {},
   "outputs": [
    {
     "data": {
      "text/plain": [
       "(2, 5)"
      ]
     },
     "execution_count": 119,
     "metadata": {},
     "output_type": "execute_result"
    }
   ],
   "source": [
    "#shape:to understand the dimension of big data:\n",
    "ar2=np.array([[1,2,3,4,5],[6,7,8,9,10]])\n",
    "ar2.shape\n"
   ]
  },
  {
   "cell_type": "code",
   "execution_count": 121,
   "id": "b18b338e-6cb4-411d-937e-ceb43b84b507",
   "metadata": {},
   "outputs": [
    {
     "data": {
      "text/plain": [
       "array([[[ 1,  2,  3],\n",
       "        [ 4,  5,  6]],\n",
       "\n",
       "       [[ 7,  8,  9],\n",
       "        [10, 11, 12]],\n",
       "\n",
       "       [[13, 14, 15],\n",
       "        [16, 17, 18]]])"
      ]
     },
     "execution_count": 121,
     "metadata": {},
     "output_type": "execute_result"
    }
   ],
   "source": [
    "arr3=np.array([[[1,2,3],[4,5,6]],[[7,8,9],[10,11,12]],[[13,14,15],[16,17,18]]])\n",
    "arr3"
   ]
  },
  {
   "cell_type": "code",
   "execution_count": 123,
   "id": "97fd02ad-0484-4bd4-8d20-b39c164a516a",
   "metadata": {},
   "outputs": [
    {
     "data": {
      "text/plain": [
       "(3, 2, 3)"
      ]
     },
     "execution_count": 123,
     "metadata": {},
     "output_type": "execute_result"
    }
   ],
   "source": [
    "arr3.shape"
   ]
  },
  {
   "cell_type": "code",
   "execution_count": 125,
   "id": "e5815bc3-2f84-4797-8463-3ee38103fadf",
   "metadata": {},
   "outputs": [
    {
     "data": {
      "text/plain": [
       "array([[[ 1,  2],\n",
       "        [ 3,  4]],\n",
       "\n",
       "       [[ 5,  6],\n",
       "        [ 7,  8]],\n",
       "\n",
       "       [[ 9, 10],\n",
       "        [11, 12]]])"
      ]
     },
     "execution_count": 125,
     "metadata": {},
     "output_type": "execute_result"
    }
   ],
   "source": [
    "as3=np.array([[[1,2],[3,4]],[[5,6],[7,8]],[[9,10],[11,12]]])\n",
    "as3"
   ]
  },
  {
   "cell_type": "code",
   "execution_count": 127,
   "id": "cd108bc1-bfde-4e26-974c-e28ee146f92a",
   "metadata": {},
   "outputs": [
    {
     "data": {
      "text/plain": [
       "(3, 2, 2)"
      ]
     },
     "execution_count": 127,
     "metadata": {},
     "output_type": "execute_result"
    }
   ],
   "source": [
    "as3.shape"
   ]
  },
  {
   "cell_type": "code",
   "execution_count": 137,
   "id": "25a960d7-ca6a-4262-aee5-9dcbcc7addb0",
   "metadata": {},
   "outputs": [
    {
     "data": {
      "text/plain": [
       "array([[[ 1,  2,  3,  4,  5],\n",
       "        [ 6,  7,  8,  9, 10]],\n",
       "\n",
       "       [[11, 12, 13, 14, 15],\n",
       "        [16, 17, 18, 19, 20]],\n",
       "\n",
       "       [[21, 22, 23, 24, 25],\n",
       "        [26, 27, 28, 29, 30]],\n",
       "\n",
       "       [[31,  3, 33, 34, 35],\n",
       "        [36, 37, 38, 39, 40]],\n",
       "\n",
       "       [[ 1,  2,  3,  4,  5],\n",
       "        [ 6,  7,  8,  9, 10]]])"
      ]
     },
     "execution_count": 137,
     "metadata": {},
     "output_type": "execute_result"
    }
   ],
   "source": [
    "#array.shape=(4,2,5)\n",
    "arr4=np.array([ [[1,2,3,4,5],[6,7,8,9,10]]\n",
    "               ,[[11,12,13,14,15],[16,17,18,19,20]]\n",
    "               ,[[21,22,23,24,25],[26,27,28,29,30]],\n",
    "               [[31,3,33,34,35],[36,37,38,39,40]],\n",
    "               [[1,2,3,4,5],[6,7,8,9,10]]\n",
    "              ])\n",
    "arr4"
   ]
  },
  {
   "cell_type": "code",
   "execution_count": 1,
   "id": "1ce4e455-cc21-427e-be80-203226c90c5a",
   "metadata": {},
   "outputs": [],
   "source": [
    "import numpy as np\n",
    "#ragged matrices: there is no fixedc no. of elements\n"
   ]
  },
  {
   "cell_type": "markdown",
   "id": "58c14e56-f559-4538-a8a1-abcc95d93b47",
   "metadata": {},
   "source": [
    "# dtypes in numpy\n",
    "* i-integer\n",
    "* b-boolean\n",
    "* u-unsigned integer(+ ve integer)\n",
    "* f-float\n",
    "* c-complex float\n",
    "* m-timedelta\n",
    "* M-datetime\n",
    "* O-object\n",
    "* S-sting\n",
    "* U-unicode string"
   ]
  },
  {
   "cell_type": "code",
   "execution_count": 3,
   "id": "4b8b6bd8-9514-47c5-bb04-c869c446c400",
   "metadata": {},
   "outputs": [
    {
     "data": {
      "text/plain": [
       "array(['apple', 'orange', 'banana', 'mango', 'pineapple'], dtype='<U9')"
      ]
     },
     "execution_count": 3,
     "metadata": {},
     "output_type": "execute_result"
    }
   ],
   "source": [
    "fruits=np.array([\"apple\",\"orange\",\"banana\",\"mango\",\"pineapple\"])\n",
    "fruits"
   ]
  },
  {
   "cell_type": "code",
   "execution_count": 7,
   "id": "b2b3d38f-f4af-4e4a-9953-df4389ec2db3",
   "metadata": {},
   "outputs": [
    {
     "name": "stdout",
     "output_type": "stream",
     "text": [
      "<class 'numpy.ndarray'>\n"
     ]
    }
   ],
   "source": [
    "print(type(fruits))"
   ]
  },
  {
   "cell_type": "code",
   "execution_count": 11,
   "id": "b390bbfd-ba3e-4c3d-92f3-2ae3865dd4e4",
   "metadata": {},
   "outputs": [
    {
     "data": {
      "text/plain": [
       "dtype('<U9')"
      ]
     },
     "execution_count": 11,
     "metadata": {},
     "output_type": "execute_result"
    }
   ],
   "source": [
    "fruits.dtype"
   ]
  },
  {
   "cell_type": "code",
   "execution_count": 17,
   "id": "66160f6a-ff39-4e30-8663-d66a062697cc",
   "metadata": {},
   "outputs": [
    {
     "data": {
      "text/plain": [
       "array([b'1', b'2', b'3', b'4', b'5'], dtype='|S1')"
      ]
     },
     "execution_count": 17,
     "metadata": {},
     "output_type": "execute_result"
    }
   ],
   "source": [
    "arr=np.array([1,2,3,4,5],dtype=\"c\")\n",
    "arr"
   ]
  },
  {
   "cell_type": "code",
   "execution_count": 19,
   "id": "5ee76909-df6c-4436-a9b4-dca2d0a3275f",
   "metadata": {},
   "outputs": [
    {
     "data": {
      "text/plain": [
       "array([2., 3., 4., 5.], dtype=float32)"
      ]
     },
     "execution_count": 19,
     "metadata": {},
     "output_type": "execute_result"
    }
   ],
   "source": [
    "arr=np.array([2,3,4,5],dtype=\"f\")\n",
    "a"
   ]
  },
  {
   "cell_type": "code",
   "execution_count": 21,
   "id": "d30ff49f-40a2-4b35-9464-c55877ad47a1",
   "metadata": {},
   "outputs": [
    {
     "data": {
      "text/plain": [
       "array([ True,  True,  True,  True])"
      ]
     },
     "execution_count": 21,
     "metadata": {},
     "output_type": "execute_result"
    }
   ],
   "source": [
    "arr=np.array([2,3,4,5])\n",
    "arr.astype(bool)"
   ]
  },
  {
   "cell_type": "code",
   "execution_count": 23,
   "id": "4e2a0131-9c2e-426f-b6c7-e051c476e0cb",
   "metadata": {},
   "outputs": [
    {
     "name": "stdout",
     "output_type": "stream",
     "text": [
      "['rida' 'ajeeba' 'naseef']\n",
      "['rida' 'ajeeba' 'naseef']\n",
      "['ilyas' 'ajeeba' 'naseef']\n",
      "['rida' 'ajeeba' 'naseef']\n"
     ]
    }
   ],
   "source": [
    "a=np.array(['rida','ajeeba','naseef'])\n",
    "b=a.copy()\n",
    "print(a)\n",
    "print(b)\n",
    "a[0]='ilyas'\n",
    "print(a)\n",
    "print(b)"
   ]
  },
  {
   "cell_type": "code",
   "execution_count": 25,
   "id": "e70b681b-df5e-4b9b-8ebc-54932c12c6ef",
   "metadata": {},
   "outputs": [
    {
     "name": "stdout",
     "output_type": "stream",
     "text": [
      "['rida' 'ajeeba' 'naseef']\n",
      "['rida' 'ajeeba' 'naseef']\n",
      "['ilyas' 'ajeeba' 'naseef']\n",
      "['ilyas' 'ajeeba' 'naseef']\n"
     ]
    }
   ],
   "source": [
    "a=np.array(['rida','ajeeba','naseef'])\n",
    "b=a.view()\n",
    "\n",
    "print(a)\n",
    "print(b)\n",
    "a[0]='ilyas'\n",
    "print(a)\n",
    "print(b)"
   ]
  },
  {
   "cell_type": "code",
   "execution_count": 33,
   "id": "e0eb3817-524f-4f7b-a3f4-8f61020f7bad",
   "metadata": {},
   "outputs": [
    {
     "name": "stdout",
     "output_type": "stream",
     "text": [
      "['sahal' 'khadeeja' 'surumi']\n",
      "['sahal' 'khadeeja' 'surumi']\n",
      "['sahal' 'husna' 'surumi']\n"
     ]
    }
   ],
   "source": [
    "f=np.array(['sahal','khadeeja','surumi'])\n",
    "s=f.copy()\n",
    "print(s)\n",
    "s[1]='husna'\n",
    "print(f)\n",
    "print(s)"
   ]
  },
  {
   "cell_type": "code",
   "execution_count": 35,
   "id": "9c94b1c1-80fa-474d-9c28-cb425536d1a3",
   "metadata": {},
   "outputs": [
    {
     "name": "stdout",
     "output_type": "stream",
     "text": [
      "['sahal' 'khadeeja' 'surumi']\n",
      "['sahal' 'husna' 'surumi']\n",
      "['sahal' 'husna' 'surumi']\n"
     ]
    }
   ],
   "source": [
    "f=np.array(['sahal','khadeeja','surumi'])\n",
    "s=f.view()\n",
    "print(s)\n",
    "s[1]='husna'\n",
    "print(f)\n",
    "print(s)"
   ]
  },
  {
   "cell_type": "code",
   "execution_count": 4,
   "id": "8fc9a240-7f4e-4a26-a72e-fd1b69bdf08b",
   "metadata": {},
   "outputs": [
    {
     "name": "stdout",
     "output_type": "stream",
     "text": [
      "[1 2 3 6 5 6]\n",
      "[1 2 3 4 5 6]\n",
      "[1 2 3 6 5 6]\n"
     ]
    }
   ],
   "source": [
    "import numpy as np\n",
    "a=np.array([1,2,3,4,5,6])\n",
    "b=a.copy()\n",
    "c=a.view()\n",
    "a[3]=6\n",
    "print(a)\n",
    "print(b)\n",
    "print(c)"
   ]
  },
  {
   "cell_type": "code",
   "execution_count": 39,
   "id": "1ea5e9a0-0e35-442f-b0b8-5eaf73befcee",
   "metadata": {},
   "outputs": [
    {
     "name": "stdout",
     "output_type": "stream",
     "text": [
      "None\n"
     ]
    }
   ],
   "source": [
    "s=b.base\n",
    "print(s)"
   ]
  },
  {
   "cell_type": "code",
   "execution_count": 6,
   "id": "13162e48-eee4-4347-a31b-9c716892f18c",
   "metadata": {},
   "outputs": [
    {
     "name": "stdout",
     "output_type": "stream",
     "text": [
      "None\n"
     ]
    }
   ],
   "source": [
    "print(b.base)\n",
    "# if it is copy the output is none"
   ]
  },
  {
   "cell_type": "code",
   "execution_count": 43,
   "id": "c18f5c00-608e-4b3e-971b-880f931cc837",
   "metadata": {},
   "outputs": [
    {
     "name": "stdout",
     "output_type": "stream",
     "text": [
      "[1 2 3 6 5 6]\n"
     ]
    }
   ],
   "source": [
    "print(c.base)\n",
    "#if it is view we can see original array"
   ]
  },
  {
   "cell_type": "code",
   "execution_count": 47,
   "id": "3516d23d-e810-4fb6-9dd7-7fa4035fd26c",
   "metadata": {},
   "outputs": [
    {
     "data": {
      "text/plain": [
       "array([[[[[1, 2, 3, 4, 5]]]]])"
      ]
     },
     "execution_count": 47,
     "metadata": {},
     "output_type": "execute_result"
    }
   ],
   "source": [
    "arr=np.array([1,2,3,4,5],ndmin=5)\n",
    "arr"
   ]
  },
  {
   "cell_type": "code",
   "execution_count": 49,
   "id": "bdf0a169-ba16-42ee-bc2f-cf2cd934c034",
   "metadata": {},
   "outputs": [
    {
     "data": {
      "text/plain": [
       "(1, 1, 1, 1, 5)"
      ]
     },
     "execution_count": 49,
     "metadata": {},
     "output_type": "execute_result"
    }
   ],
   "source": [
    "arr.shape# give dimension in each array"
   ]
  },
  {
   "cell_type": "code",
   "execution_count": 53,
   "id": "d8546b0e-b5b1-46ba-aabd-0714baa14b3d",
   "metadata": {},
   "outputs": [
    {
     "data": {
      "text/plain": [
       "array([[ 1,  2,  3,  4],\n",
       "       [ 5,  6,  7,  8],\n",
       "       [ 9, 10, 11, 12]])"
      ]
     },
     "execution_count": 53,
     "metadata": {},
     "output_type": "execute_result"
    }
   ],
   "source": [
    "arr2=np.array([[1,2,3,4],[5,6,7,8],[9,10,11,12]])\n",
    "arr2"
   ]
  },
  {
   "cell_type": "code",
   "execution_count": 55,
   "id": "65bbdcce-8d69-4d5f-a5b5-2a73e2bb41f7",
   "metadata": {},
   "outputs": [
    {
     "data": {
      "text/plain": [
       "(3, 4)"
      ]
     },
     "execution_count": 55,
     "metadata": {},
     "output_type": "execute_result"
    }
   ],
   "source": [
    "arr2.shape"
   ]
  },
  {
   "cell_type": "code",
   "execution_count": 59,
   "id": "d57bd7f7-8233-494f-a068-a2cf0bc20a17",
   "metadata": {},
   "outputs": [
    {
     "name": "stdout",
     "output_type": "stream",
     "text": [
      "[[ 1  2  3]\n",
      " [ 4  5  6]\n",
      " [ 7  8  9]\n",
      " [10 11 12]]\n",
      "[[ 1  2]\n",
      " [ 3  4]\n",
      " [ 5  6]\n",
      " [ 7  8]\n",
      " [ 9 10]\n",
      " [11 12]]\n",
      "[[ 1  2  3  4]\n",
      " [ 5  6  7  8]\n",
      " [ 9 10 11 12]]\n",
      "[[ 1  2  3  4  5  6]\n",
      " [ 7  8  9 10 11 12]]\n"
     ]
    }
   ],
   "source": [
    "a=np.array([1,2,3,4,5,6,7,8,9,10,11,12])\n",
    "print(a.reshape(4,3))\n",
    "print(a.reshape(6,2))\n",
    "print(a.reshape(3,4))\n",
    "print(a.reshape(2,6))"
   ]
  },
  {
   "cell_type": "code",
   "execution_count": 61,
   "id": "d0f04208-4b69-4d9d-8705-1984636dc484",
   "metadata": {},
   "outputs": [
    {
     "data": {
      "text/plain": [
       "array([[[ 1,  2],\n",
       "        [ 3,  4],\n",
       "        [ 5,  6]],\n",
       "\n",
       "       [[ 7,  8],\n",
       "        [ 9, 10],\n",
       "        [11, 12]]])"
      ]
     },
     "execution_count": 61,
     "metadata": {},
     "output_type": "execute_result"
    }
   ],
   "source": [
    "arr3=np.array([1,2,3,4,5,6,7,8,9,10,11,12])\n",
    "arr3.reshape(2,3,2)"
   ]
  },
  {
   "cell_type": "code",
   "execution_count": 63,
   "id": "2f005597-3a34-42fc-b6ce-e05fbd024c93",
   "metadata": {},
   "outputs": [
    {
     "data": {
      "text/plain": [
       "array([[[ 1,  2],\n",
       "        [ 3,  4]],\n",
       "\n",
       "       [[ 5,  6],\n",
       "        [ 7,  8]],\n",
       "\n",
       "       [[ 9, 10],\n",
       "        [11, 12]]])"
      ]
     },
     "execution_count": 63,
     "metadata": {},
     "output_type": "execute_result"
    }
   ],
   "source": [
    "arr3.reshape(3,2,2)"
   ]
  },
  {
   "cell_type": "code",
   "execution_count": 67,
   "id": "632dfa58-9437-4681-8a4a-82629d9ee5c8",
   "metadata": {},
   "outputs": [
    {
     "data": {
      "text/plain": [
       "array([[[ 1,  2,  3],\n",
       "        [ 4,  5,  6]],\n",
       "\n",
       "       [[ 7,  8,  9],\n",
       "        [10, 11, 12]]])"
      ]
     },
     "execution_count": 67,
     "metadata": {},
     "output_type": "execute_result"
    }
   ],
   "source": [
    "arr3.reshape(2,2,3)"
   ]
  },
  {
   "cell_type": "code",
   "execution_count": 77,
   "id": "c9dbb4be-b478-4ac5-8f8d-1f8faa6d5c29",
   "metadata": {},
   "outputs": [
    {
     "data": {
      "text/plain": [
       "array([[[ 1,  2,  3,  4],\n",
       "        [ 5,  6,  7,  8],\n",
       "        [ 9, 10, 11, 12]]])"
      ]
     },
     "execution_count": 77,
     "metadata": {},
     "output_type": "execute_result"
    }
   ],
   "source": [
    "arr=np.array([1,2,3,4,5,6,7,8,9,10,11,12])\n",
    "d=arr.reshape(1,3,4)\n",
    "d\n"
   ]
  },
  {
   "cell_type": "code",
   "execution_count": 79,
   "id": "7e683bae-61cd-467a-8691-e34077c9b0ba",
   "metadata": {},
   "outputs": [
    {
     "data": {
      "text/plain": [
       "array([ 1,  2,  3,  4,  5,  6,  7,  8,  9, 10, 11, 12])"
      ]
     },
     "execution_count": 79,
     "metadata": {},
     "output_type": "execute_result"
    }
   ],
   "source": [
    "# flatening : to any dimension to one dimension.\n",
    "d.reshape(-1)"
   ]
  },
  {
   "cell_type": "code",
   "execution_count": 81,
   "id": "545257e9-bcba-4207-b5c8-bc3273d4b350",
   "metadata": {},
   "outputs": [
    {
     "data": {
      "text/plain": [
       "array([ 1,  2,  3,  4,  5,  6,  7,  8,  9, 10, 11, 12, 13, 14, 15, 16, 17,\n",
       "       18, 19, 20, 21, 22, 23, 24, 25, 26, 27, 28, 29, 30, 31, 32, 33, 34,\n",
       "       35, 36, 37, 38, 39, 40, 41, 42, 43, 44, 45, 46, 47, 48, 49, 50, 51,\n",
       "       52, 53, 54, 55, 56, 57, 58, 59, 60, 61, 62, 63, 64, 65, 66, 67, 68,\n",
       "       69, 70, 71, 72, 73, 74, 75, 76, 77, 78, 79, 80, 81, 82, 83, 84, 85,\n",
       "       86, 87, 88, 89, 90, 91, 92, 93, 94, 95, 96, 97, 98, 99])"
      ]
     },
     "execution_count": 81,
     "metadata": {},
     "output_type": "execute_result"
    }
   ],
   "source": [
    "ar=np.arange(1,100)\n",
    "ar"
   ]
  },
  {
   "cell_type": "code",
   "execution_count": 85,
   "id": "e6c39680-254d-42ef-881d-9761b4067437",
   "metadata": {},
   "outputs": [
    {
     "data": {
      "text/plain": [
       "array([  1,   2,   3,   4,   5,   6,   7,   8,   9,  10,  11,  12,  13,\n",
       "        14,  15,  16,  17,  18,  19,  20,  21,  22,  23,  24,  25,  26,\n",
       "        27,  28,  29,  30,  31,  32,  33,  34,  35,  36,  37,  38,  39,\n",
       "        40,  41,  42,  43,  44,  45,  46,  47,  48,  49,  50,  51,  52,\n",
       "        53,  54,  55,  56,  57,  58,  59,  60,  61,  62,  63,  64,  65,\n",
       "        66,  67,  68,  69,  70,  71,  72,  73,  74,  75,  76,  77,  78,\n",
       "        79,  80,  81,  82,  83,  84,  85,  86,  87,  88,  89,  90,  91,\n",
       "        92,  93,  94,  95,  96,  97,  98,  99, 100, 101, 102, 103, 104,\n",
       "       105, 106, 107, 108, 109, 110, 111, 112, 113, 114, 115, 116, 117,\n",
       "       118, 119, 120, 121, 122, 123, 124, 125, 126, 127, 128, 129, 130,\n",
       "       131, 132, 133, 134, 135, 136, 137, 138, 139, 140, 141, 142, 143,\n",
       "       144, 145, 146, 147, 148, 149, 150, 151, 152, 153, 154, 155, 156,\n",
       "       157, 158, 159, 160, 161, 162, 163, 164, 165, 166, 167, 168, 169,\n",
       "       170, 171, 172, 173, 174, 175, 176, 177, 178, 179, 180, 181, 182,\n",
       "       183, 184, 185, 186, 187, 188, 189, 190, 191, 192, 193, 194, 195,\n",
       "       196, 197, 198, 199])"
      ]
     },
     "execution_count": 85,
     "metadata": {},
     "output_type": "execute_result"
    }
   ],
   "source": [
    "arr=np.arange(1,200)\n",
    "arr"
   ]
  },
  {
   "cell_type": "code",
   "execution_count": 89,
   "id": "e6b99140-005b-41e9-b598-a932275d2ffa",
   "metadata": {},
   "outputs": [
    {
     "data": {
      "text/plain": [
       "array([ 1,  3,  5,  7,  9, 11, 13, 15, 17, 19, 21, 23, 25, 27, 29, 31, 33,\n",
       "       35, 37, 39, 41, 43, 45, 47, 49])"
      ]
     },
     "execution_count": 89,
     "metadata": {},
     "output_type": "execute_result"
    }
   ],
   "source": [
    "a=np.arange(1,50,2)\n",
    "a"
   ]
  },
  {
   "cell_type": "code",
   "execution_count": 95,
   "id": "90dc837e-97b2-478e-9f52-28a2a539b0ee",
   "metadata": {},
   "outputs": [
    {
     "data": {
      "text/plain": [
       "array([25, 26, 27, 28, 29, 30, 31, 32, 33, 34, 35, 36, 37, 38, 39, 40, 41,\n",
       "       42, 43, 44, 45, 46, 47, 48, 49, 50, 51, 52, 53, 54, 55, 56, 57, 58,\n",
       "       59, 60, 61, 62, 63, 64, 65, 66, 67, 68, 69, 70, 71, 72, 73, 74, 75])"
      ]
     },
     "execution_count": 95,
     "metadata": {},
     "output_type": "execute_result"
    }
   ],
   "source": [
    "b=np.arange(25,76)\n",
    "b"
   ]
  },
  {
   "cell_type": "code",
   "execution_count": 99,
   "id": "dd3698e3-0a43-4b07-b478-9a4c91f45162",
   "metadata": {},
   "outputs": [
    {
     "data": {
      "text/plain": [
       "array([1, 1, 1, 1])"
      ]
     },
     "execution_count": 99,
     "metadata": {},
     "output_type": "execute_result"
    }
   ],
   "source": [
    "# to make an array contain all element is 1 (ones)\n",
    "z=np.ones(4,dtype='int')\n",
    "z"
   ]
  },
  {
   "cell_type": "code",
   "execution_count": 103,
   "id": "eea13d9c-86af-4765-aebc-a298d61ffb46",
   "metadata": {},
   "outputs": [
    {
     "data": {
      "text/plain": [
       "array([[1, 1, 1],\n",
       "       [1, 1, 1],\n",
       "       [1, 1, 1],\n",
       "       [1, 1, 1]])"
      ]
     },
     "execution_count": 103,
     "metadata": {},
     "output_type": "execute_result"
    }
   ],
   "source": [
    "f=np.ones((4,3),dtype='int')\n",
    "f"
   ]
  },
  {
   "cell_type": "code",
   "execution_count": 105,
   "id": "ab8c165e-8909-4dd5-9afc-3796bf9d0769",
   "metadata": {},
   "outputs": [
    {
     "data": {
      "text/plain": [
       "array([[[1, 1, 1],\n",
       "        [1, 1, 1],\n",
       "        [1, 1, 1],\n",
       "        [1, 1, 1]],\n",
       "\n",
       "       [[1, 1, 1],\n",
       "        [1, 1, 1],\n",
       "        [1, 1, 1],\n",
       "        [1, 1, 1]]])"
      ]
     },
     "execution_count": 105,
     "metadata": {},
     "output_type": "execute_result"
    }
   ],
   "source": [
    "q=np.ones((2,4,3),dtype='int')\n",
    "q"
   ]
  },
  {
   "cell_type": "code",
   "execution_count": 107,
   "id": "132ae54f-9d2f-44e1-83fe-4d4808d7e4e4",
   "metadata": {},
   "outputs": [
    {
     "data": {
      "text/plain": [
       "array([0., 0., 0., 0.])"
      ]
     },
     "execution_count": 107,
     "metadata": {},
     "output_type": "execute_result"
    }
   ],
   "source": [
    "#to get all item 0.\n",
    "e=np.zeros(4)\n",
    "e"
   ]
  },
  {
   "cell_type": "code",
   "execution_count": 109,
   "id": "45efbc6f-e9ab-481f-a12d-b6624404b698",
   "metadata": {},
   "outputs": [
    {
     "data": {
      "text/plain": [
       "array([[0, 0, 0],\n",
       "       [0, 0, 0]])"
      ]
     },
     "execution_count": 109,
     "metadata": {},
     "output_type": "execute_result"
    }
   ],
   "source": [
    "s=np.zeros((2,3),dtype='int')\n",
    "s"
   ]
  },
  {
   "cell_type": "code",
   "execution_count": 113,
   "id": "d4fdfd24-f8be-472a-9d51-d037796fd072",
   "metadata": {},
   "outputs": [
    {
     "data": {
      "text/plain": [
       "array([[[0., 0., 0., 0.],\n",
       "        [0., 0., 0., 0.],\n",
       "        [0., 0., 0., 0.]],\n",
       "\n",
       "       [[0., 0., 0., 0.],\n",
       "        [0., 0., 0., 0.],\n",
       "        [0., 0., 0., 0.]]])"
      ]
     },
     "execution_count": 113,
     "metadata": {},
     "output_type": "execute_result"
    }
   ],
   "source": [
    "v=np.zeros((2,3,4))\n",
    "v"
   ]
  },
  {
   "cell_type": "code",
   "execution_count": 117,
   "id": "65a1357e-6265-4ad1-9fcf-9abe2e485d46",
   "metadata": {},
   "outputs": [
    {
     "data": {
      "text/plain": [
       "array([0])"
      ]
     },
     "execution_count": 117,
     "metadata": {},
     "output_type": "execute_result"
    }
   ],
   "source": [
    "a=np.arange(0,1)\n",
    "a"
   ]
  },
  {
   "cell_type": "code",
   "execution_count": 119,
   "id": "ab461b75-0cfb-4f06-a651-edbfe35dd01d",
   "metadata": {},
   "outputs": [
    {
     "data": {
      "text/plain": [
       "array([0.        , 0.02040816, 0.04081633, 0.06122449, 0.08163265,\n",
       "       0.10204082, 0.12244898, 0.14285714, 0.16326531, 0.18367347,\n",
       "       0.20408163, 0.2244898 , 0.24489796, 0.26530612, 0.28571429,\n",
       "       0.30612245, 0.32653061, 0.34693878, 0.36734694, 0.3877551 ,\n",
       "       0.40816327, 0.42857143, 0.44897959, 0.46938776, 0.48979592,\n",
       "       0.51020408, 0.53061224, 0.55102041, 0.57142857, 0.59183673,\n",
       "       0.6122449 , 0.63265306, 0.65306122, 0.67346939, 0.69387755,\n",
       "       0.71428571, 0.73469388, 0.75510204, 0.7755102 , 0.79591837,\n",
       "       0.81632653, 0.83673469, 0.85714286, 0.87755102, 0.89795918,\n",
       "       0.91836735, 0.93877551, 0.95918367, 0.97959184, 1.        ])"
      ]
     },
     "execution_count": 119,
     "metadata": {},
     "output_type": "execute_result"
    }
   ],
   "source": [
    "arr=np.linspace(0,1)\n",
    "arr"
   ]
  },
  {
   "cell_type": "code",
   "execution_count": 121,
   "id": "d0e18a5b-c6e1-4ae5-8d22-6bbdfcf3459f",
   "metadata": {},
   "outputs": [
    {
     "data": {
      "text/plain": [
       "array([0.  , 0.25, 0.5 , 0.75, 1.  ])"
      ]
     },
     "execution_count": 121,
     "metadata": {},
     "output_type": "execute_result"
    }
   ],
   "source": [
    "arr=np.linspace(0,1,5)\n",
    "arr"
   ]
  },
  {
   "cell_type": "code",
   "execution_count": 123,
   "id": "f59401cb-7c6d-4215-9d5e-87ae2367b668",
   "metadata": {},
   "outputs": [
    {
     "data": {
      "text/plain": [
       "array([[1, 0, 0, 0],\n",
       "       [0, 2, 0, 0],\n",
       "       [0, 0, 3, 0],\n",
       "       [0, 0, 0, 4]])"
      ]
     },
     "execution_count": 123,
     "metadata": {},
     "output_type": "execute_result"
    }
   ],
   "source": [
    "# represent diagonally.\n",
    "a=np.array([1,2,3,4])\n",
    "c=np.diag(a)\n",
    "c"
   ]
  },
  {
   "cell_type": "code",
   "execution_count": 125,
   "id": "a111e357-3262-451c-bca1-c5d9225120a0",
   "metadata": {},
   "outputs": [
    {
     "data": {
      "text/plain": [
       "array([[1, 0, 0, 0, 0],\n",
       "       [0, 2, 0, 0, 0],\n",
       "       [0, 0, 3, 0, 0],\n",
       "       [0, 0, 0, 4, 0],\n",
       "       [0, 0, 0, 0, 5]])"
      ]
     },
     "execution_count": 125,
     "metadata": {},
     "output_type": "execute_result"
    }
   ],
   "source": [
    "b=np.diag([1,2,3,4,5])\n",
    "b"
   ]
  },
  {
   "cell_type": "code",
   "execution_count": 127,
   "id": "c889e689-e975-48f3-bf9f-e37391faf603",
   "metadata": {},
   "outputs": [
    {
     "data": {
      "text/plain": [
       "array([[1., 0., 0.],\n",
       "       [0., 1., 0.],\n",
       "       [0., 0., 1.]])"
      ]
     },
     "execution_count": 127,
     "metadata": {},
     "output_type": "execute_result"
    }
   ],
   "source": [
    "#eye function:to a matrix with diagonal 1:\n",
    "np.eye(3)"
   ]
  },
  {
   "cell_type": "code",
   "execution_count": 129,
   "id": "5badf36f-e79e-49e6-a92e-b4b55f862c09",
   "metadata": {},
   "outputs": [
    {
     "data": {
      "text/plain": [
       "array([[1., 0., 0., 0., 0.],\n",
       "       [0., 1., 0., 0., 0.],\n",
       "       [0., 0., 1., 0., 0.],\n",
       "       [0., 0., 0., 1., 0.],\n",
       "       [0., 0., 0., 0., 1.]])"
      ]
     },
     "execution_count": 129,
     "metadata": {},
     "output_type": "execute_result"
    }
   ],
   "source": [
    "np.eye(5)"
   ]
  },
  {
   "cell_type": "code",
   "execution_count": 133,
   "id": "af7d3f2f-7fc2-419c-a07f-8403c62ce04c",
   "metadata": {},
   "outputs": [
    {
     "data": {
      "text/plain": [
       "array([[1, 2, 3, 4],\n",
       "       [5, 6, 7, 8]])"
      ]
     },
     "execution_count": 133,
     "metadata": {},
     "output_type": "execute_result"
    }
   ],
   "source": [
    "arra=np.array([1,2,3,4,5,6,7,8])\n",
    "q=arra.reshape(2,4)\n",
    "q"
   ]
  },
  {
   "cell_type": "code",
   "execution_count": 135,
   "id": "08708749-d782-4f65-a69e-1a8c013eed3a",
   "metadata": {},
   "outputs": [
    {
     "data": {
      "text/plain": [
       "array([1, 2, 3, 4, 5, 6, 7, 8])"
      ]
     },
     "execution_count": 135,
     "metadata": {},
     "output_type": "execute_result"
    }
   ],
   "source": [
    "q.base"
   ]
  },
  {
   "cell_type": "code",
   "execution_count": 139,
   "id": "abf1e318-c92c-4a34-b0cf-34df0afd15af",
   "metadata": {},
   "outputs": [
    {
     "data": {
      "text/plain": [
       "array([ 1,  2,  3,  4,  5,  6,  7,  8,  9, 10, 11, 12, 13, 14, 15, 16, 17,\n",
       "       18, 19, 20])"
      ]
     },
     "execution_count": 139,
     "metadata": {},
     "output_type": "execute_result"
    }
   ],
   "source": [
    "ee=np.arange(1,21)# function.\n",
    "ee"
   ]
  },
  {
   "cell_type": "code",
   "execution_count": 141,
   "id": "b94c74dc-98c6-4a7d-99dd-a2fc90e06902",
   "metadata": {},
   "outputs": [
    {
     "data": {
      "text/plain": [
       "array([[[ 1,  2,  3,  4,  5],\n",
       "        [ 6,  7,  8,  9, 10],\n",
       "        [11, 12, 13, 14, 15],\n",
       "        [16, 17, 18, 19, 20]]])"
      ]
     },
     "execution_count": 141,
     "metadata": {},
     "output_type": "execute_result"
    }
   ],
   "source": [
    "ee.reshape((1,4,5))"
   ]
  },
  {
   "cell_type": "code",
   "execution_count": 143,
   "id": "0be59bec-bcd6-4804-b966-8a53fac20aff",
   "metadata": {},
   "outputs": [
    {
     "data": {
      "text/plain": [
       "array([[[ 1,  2],\n",
       "        [ 3,  4],\n",
       "        [ 5,  6],\n",
       "        [ 7,  8],\n",
       "        [ 9, 10]],\n",
       "\n",
       "       [[11, 12],\n",
       "        [13, 14],\n",
       "        [15, 16],\n",
       "        [17, 18],\n",
       "        [19, 20]]])"
      ]
     },
     "execution_count": 143,
     "metadata": {},
     "output_type": "execute_result"
    }
   ],
   "source": [
    "ee.reshape(2,5,2)"
   ]
  },
  {
   "cell_type": "code",
   "execution_count": 151,
   "id": "fd0341d0-d165-4d57-9b5f-9537d623e141",
   "metadata": {},
   "outputs": [
    {
     "data": {
      "text/plain": [
       "array([[[ 1,  2],\n",
       "        [ 3,  4]],\n",
       "\n",
       "       [[ 5,  6],\n",
       "        [ 7,  8]],\n",
       "\n",
       "       [[ 9, 10],\n",
       "        [11, 12]],\n",
       "\n",
       "       [[13, 14],\n",
       "        [15, 16]],\n",
       "\n",
       "       [[17, 18],\n",
       "        [19, 20]]])"
      ]
     },
     "execution_count": 151,
     "metadata": {},
     "output_type": "execute_result"
    }
   ],
   "source": [
    "ass=ee.reshape(5,2,2)\n",
    "ass"
   ]
  },
  {
   "cell_type": "code",
   "execution_count": 153,
   "id": "f3afe274-0ca4-47a3-9164-a354092b34bc",
   "metadata": {},
   "outputs": [
    {
     "data": {
      "text/plain": [
       "array([ 1,  2,  3,  4,  5,  6,  7,  8,  9, 10, 11, 12, 13, 14, 15, 16, 17,\n",
       "       18, 19, 20])"
      ]
     },
     "execution_count": 153,
     "metadata": {},
     "output_type": "execute_result"
    }
   ],
   "source": [
    "ass.reshape(-1)"
   ]
  },
  {
   "cell_type": "code",
   "execution_count": 1,
   "id": "4d9db68b-19dc-440e-a729-a95d957846ed",
   "metadata": {},
   "outputs": [],
   "source": [
    "import numpy as np\n",
    "# mathematical operations\n"
   ]
  },
  {
   "cell_type": "code",
   "execution_count": 3,
   "id": "12ebbe54-42e8-4743-b05a-82a4e93eafb5",
   "metadata": {},
   "outputs": [
    {
     "data": {
      "text/plain": [
       "10"
      ]
     },
     "execution_count": 3,
     "metadata": {},
     "output_type": "execute_result"
    }
   ],
   "source": [
    "#1. sum\n",
    "arr=np.array([1,2,3,4])\n",
    "result=np.sum(arr)\n",
    "result"
   ]
  },
  {
   "cell_type": "code",
   "execution_count": 5,
   "id": "b0a98101-558a-44a9-90c0-2bed4323d05b",
   "metadata": {},
   "outputs": [
    {
     "data": {
      "text/plain": [
       "36"
      ]
     },
     "execution_count": 5,
     "metadata": {},
     "output_type": "execute_result"
    }
   ],
   "source": [
    "arr2=np.array([[1,2,3,4],[5,6,7,8]])\n",
    "res=np.sum(arr2)\n",
    "res"
   ]
  },
  {
   "cell_type": "code",
   "execution_count": 9,
   "id": "64ec5bc6-7bdb-4b25-ae95-c1af8d832c19",
   "metadata": {},
   "outputs": [
    {
     "data": {
      "text/plain": [
       "78"
      ]
     },
     "execution_count": 9,
     "metadata": {},
     "output_type": "execute_result"
    }
   ],
   "source": [
    "arr3=np.array([[[1,2,3],[4,5,6]],[[7,8,9],[10,11,12]]])\n",
    "rslt=np.sum(arr3)\n",
    "rslt"
   ]
  },
  {
   "cell_type": "code",
   "execution_count": 13,
   "id": "4776fdef-11a2-46da-a822-5b4448346f93",
   "metadata": {},
   "outputs": [
    {
     "data": {
      "text/plain": [
       "array([ 6,  8, 10, 12])"
      ]
     },
     "execution_count": 13,
     "metadata": {},
     "output_type": "execute_result"
    }
   ],
   "source": [
    "arr=np.array([1,2,3,4])\n",
    "arr2=np.array([5,6,7,8])\n",
    "reslt=np.add(arr,arr2)\n",
    "reslt"
   ]
  },
  {
   "cell_type": "code",
   "execution_count": 15,
   "id": "57923f82-9c5b-46ef-b8bb-9042a5ce8cdd",
   "metadata": {},
   "outputs": [
    {
     "data": {
      "text/plain": [
       "array([[ 2,  5,  8, 11],\n",
       "       [ 7, 10, 13, 16]])"
      ]
     },
     "execution_count": 15,
     "metadata": {},
     "output_type": "execute_result"
    }
   ],
   "source": [
    "tarr=np.array([[1,3,5,7],[2,4,6,8]])\n",
    "tarr2=np.array([[1,2,3,4],[5,6,7,8]])\n",
    "ans=np.add(tarr,tarr2)\n",
    "ans"
   ]
  },
  {
   "cell_type": "code",
   "execution_count": 19,
   "id": "a648376d-a37b-461f-aa74-86e1172b540a",
   "metadata": {},
   "outputs": [
    {
     "name": "stdout",
     "output_type": "stream",
     "text": [
      "[[[ 2  4  6]\n",
      "  [ 8 10 12]]\n",
      "\n",
      " [[ 2  6 10]\n",
      "  [ 4  8 12]]]\n"
     ]
    }
   ],
   "source": [
    "tharr=np.array([[[1,2,3],[4,5,6]],[[1,3,5],[2,4,6]]])\n",
    "tharr2=np.array([[[1,2,3],[4,5,6]],[[1,3,5],[2,4,6]]])\n",
    "print(np.add(tharr,tharr2))"
   ]
  },
  {
   "cell_type": "code",
   "execution_count": 21,
   "id": "97ac669d-3b34-4210-8553-78039006f74f",
   "metadata": {},
   "outputs": [
    {
     "name": "stdout",
     "output_type": "stream",
     "text": [
      "[ 3  7 11 15]\n"
     ]
    }
   ],
   "source": [
    "tarr=np.array([[1,3,5,7],\n",
    "               [2,4,6,8]])\n",
    "print(np.sum(tarr,axis=0))"
   ]
  },
  {
   "cell_type": "code",
   "execution_count": 23,
   "id": "28849930-99a0-4fa9-a1d1-60d0ea7c67da",
   "metadata": {},
   "outputs": [
    {
     "name": "stdout",
     "output_type": "stream",
     "text": [
      "[16 20]\n"
     ]
    }
   ],
   "source": [
    "print(np.sum(tarr,axis=1))"
   ]
  },
  {
   "cell_type": "code",
   "execution_count": 25,
   "id": "3fde23bb-efe1-4efa-9bf0-b13365aa6471",
   "metadata": {},
   "outputs": [
    {
     "name": "stdout",
     "output_type": "stream",
     "text": [
      "[[ 2  5  8]\n",
      " [ 6  9 12]]\n"
     ]
    }
   ],
   "source": [
    "tharr=np.array([ [[1,2,3],[4,5,6]]\n",
    "                \n",
    "                 ,[[1,3,5],[2,4,6]]])\n",
    "print(np.sum(tharr,axis=0))"
   ]
  },
  {
   "cell_type": "code",
   "execution_count": 27,
   "id": "e8c8f9b2-3d10-497a-bf72-2de6fe7ba2d6",
   "metadata": {},
   "outputs": [
    {
     "name": "stdout",
     "output_type": "stream",
     "text": [
      "[[ 5  7  9]\n",
      " [ 3  7 11]]\n"
     ]
    }
   ],
   "source": [
    "print(np.sum(tharr,axis=1))"
   ]
  },
  {
   "cell_type": "code",
   "execution_count": 47,
   "id": "860003c3-d4c8-4847-bb73-66514719dd2d",
   "metadata": {},
   "outputs": [
    {
     "name": "stdout",
     "output_type": "stream",
     "text": [
      "[[8 8 8 8]\n",
      " [8 8 8 8]]\n"
     ]
    }
   ],
   "source": [
    "#substraction.\n",
    "arr2=np.array([[1,2,3,4],[5,6,7,8]])\n",
    "ar=np.array([[9,10,11,12],[13,14,15,16]])\n",
    "print(np.subtract(ar,arr2))\n"
   ]
  },
  {
   "cell_type": "code",
   "execution_count": 31,
   "id": "be3a1f83-9921-425d-aa8d-19b30a76ce81",
   "metadata": {},
   "outputs": [
    {
     "name": "stdout",
     "output_type": "stream",
     "text": [
      "2.5\n"
     ]
    }
   ],
   "source": [
    "arr=np.array([1,2,3,4])\n",
    "print(np.mean(arr))"
   ]
  },
  {
   "cell_type": "code",
   "execution_count": 33,
   "id": "b98ff46b-a332-4c9d-8532-ccb07f6fc8cc",
   "metadata": {},
   "outputs": [
    {
     "name": "stdout",
     "output_type": "stream",
     "text": [
      "4\n"
     ]
    }
   ],
   "source": [
    "print(np.max(arr))"
   ]
  },
  {
   "cell_type": "code",
   "execution_count": 35,
   "id": "627ea721-7cd4-4f80-92e2-d48204a68818",
   "metadata": {},
   "outputs": [
    {
     "name": "stdout",
     "output_type": "stream",
     "text": [
      "1\n"
     ]
    }
   ],
   "source": [
    "print(np.min(arr))"
   ]
  },
  {
   "cell_type": "code",
   "execution_count": 37,
   "id": "1792b212-a107-42c6-a385-191c00685757",
   "metadata": {},
   "outputs": [
    {
     "name": "stdout",
     "output_type": "stream",
     "text": [
      "1.118033988749895\n"
     ]
    }
   ],
   "source": [
    "print(np.std(arr))"
   ]
  },
  {
   "cell_type": "code",
   "execution_count": 41,
   "id": "b3fd9ba4-1f1f-43c6-9903-a4434f21b5f8",
   "metadata": {},
   "outputs": [
    {
     "name": "stdout",
     "output_type": "stream",
     "text": [
      "[ 2  8 18 32]\n"
     ]
    }
   ],
   "source": [
    "a=np.array([2,4,6,8])\n",
    "print(np.multiply(arr,a))\n"
   ]
  },
  {
   "cell_type": "code",
   "execution_count": 15,
   "id": "d399b2fc-eaea-4fe1-a3b3-3d8fe884dfd6",
   "metadata": {},
   "outputs": [
    {
     "name": "stdout",
     "output_type": "stream",
     "text": [
      "1\n",
      "2\n",
      "3\n",
      "4\n",
      "5\n"
     ]
    }
   ],
   "source": [
    "import numpy as np\n",
    "arr=np.array([1,2,3,4,5])\n",
    "for i in arr:\n",
    "    print(i)"
   ]
  },
  {
   "cell_type": "code",
   "execution_count": 22,
   "id": "632929ab-f7b0-4ba7-9723-df07543b6815",
   "metadata": {},
   "outputs": [
    {
     "name": "stdout",
     "output_type": "stream",
     "text": [
      "3\n",
      "4\n",
      "5\n",
      "6\n",
      "7\n",
      "8\n",
      "9\n",
      "10\n"
     ]
    }
   ],
   "source": [
    "a=np.array([1,2,3,4,5,6,7,8])\n",
    "for i in a:\n",
    "    i+=2\n",
    "    print(i)"
   ]
  },
  {
   "cell_type": "code",
   "execution_count": 11,
   "id": "f368848b-ba7f-43e4-bccc-d55dbd49413f",
   "metadata": {},
   "outputs": [
    {
     "name": "stdout",
     "output_type": "stream",
     "text": [
      "[1 3 5 7]\n",
      "[1 3 5 7]\n",
      "[1 3 5 7]\n",
      "[1 3 5 7]\n",
      "[1 3 5 7]\n",
      "[1 3 5 7]\n",
      "[1 3 5 7]\n",
      "[1 3 5 7]\n"
     ]
    }
   ],
   "source": [
    "import numpy as np\n",
    "a=np.array([1,2,3,4,5,6,7,8])\n",
    "for i in a:\n",
    "    b=a[0:8:2]\n",
    "    print(b)"
   ]
  },
  {
   "cell_type": "code",
   "execution_count": 28,
   "id": "f607bc94-6c4c-494c-a44f-285642b1e103",
   "metadata": {},
   "outputs": [
    {
     "name": "stdout",
     "output_type": "stream",
     "text": [
      "[1 2 3]\n",
      "[4 5 6]\n"
     ]
    }
   ],
   "source": [
    "arr=np.array([[1,2,3],[4,5,6]])\n",
    "for i in arr:\n",
    "    print(i)"
   ]
  },
  {
   "cell_type": "code",
   "execution_count": 56,
   "id": "cd16f986-52e9-4446-b58e-98a84ed395a9",
   "metadata": {},
   "outputs": [
    {
     "name": "stdout",
     "output_type": "stream",
     "text": [
      "1\n",
      "2\n",
      "3\n",
      "4\n",
      "5\n"
     ]
    }
   ],
   "source": [
    "i=0\n",
    "n=len(a)\n",
    "while i<n:\n",
    "    print(a[i])\n",
    "    i+=1"
   ]
  },
  {
   "cell_type": "code",
   "execution_count": 32,
   "id": "0357fe98-fa95-4ea9-b33d-fcfd7c1e80f8",
   "metadata": {},
   "outputs": [
    {
     "name": "stdout",
     "output_type": "stream",
     "text": [
      "1\n",
      "2\n",
      "3\n",
      "4\n",
      "5\n",
      "6\n"
     ]
    }
   ],
   "source": [
    "arr=np.array([[1,2,3],[4,5,6]])\n",
    "for i in arr:\n",
    "    for j in i:\n",
    "        print(j)\n",
    "        \n"
   ]
  },
  {
   "cell_type": "code",
   "execution_count": 34,
   "id": "106366aa-8187-461b-8b07-7f5c753e270a",
   "metadata": {},
   "outputs": [
    {
     "name": "stdout",
     "output_type": "stream",
     "text": [
      "1\n",
      "2\n",
      "3\n",
      "4\n",
      "5\n",
      "6\n"
     ]
    }
   ],
   "source": [
    "#nditer: \n",
    "arr=np.array([[1,2,3],[4,5,6]])\n",
    "for i in np.nditer(arr):\n",
    "    print(i)"
   ]
  },
  {
   "cell_type": "code",
   "execution_count": 40,
   "id": "2d813fd3-01a7-45f8-876d-637b22e45cdb",
   "metadata": {},
   "outputs": [
    {
     "name": "stdout",
     "output_type": "stream",
     "text": [
      "1\n",
      "2\n",
      "3\n",
      "4\n",
      "5\n",
      "6\n",
      "7\n",
      "8\n",
      "9\n",
      "10\n",
      "11\n",
      "12\n"
     ]
    }
   ],
   "source": [
    "arr2=np.array([[[1,2,3],[4,5,6]],\n",
    "                [[7,8,9],[10,11,12]]])\n",
    "for i in np.nditer(arr2):\n",
    "    print(i)"
   ]
  },
  {
   "cell_type": "code",
   "execution_count": null,
   "id": "979b2b14-4cc3-4a85-819c-e7ee6bd77856",
   "metadata": {},
   "outputs": [],
   "source": []
  },
  {
   "cell_type": "code",
   "execution_count": 42,
   "id": "a21924a0-0d4a-4603-a639-663999edc14d",
   "metadata": {},
   "outputs": [
    {
     "name": "stdout",
     "output_type": "stream",
     "text": [
      "(0,) 1\n",
      "(1,) 2\n",
      "(2,) 3\n",
      "(3,) 4\n",
      "(4,) 5\n"
     ]
    }
   ],
   "source": [
    "# ndenumerate:\n",
    "a= np.array([1,2,3,4,5])\n",
    "for idx,i in np.ndenumerate(a):\n",
    "    print(idx,i)\n"
   ]
  },
  {
   "cell_type": "code",
   "execution_count": 50,
   "id": "406cdfc4-9d90-4fe5-8a54-29ec001cf7f3",
   "metadata": {},
   "outputs": [
    {
     "name": "stdout",
     "output_type": "stream",
     "text": [
      "(0, 0) 1\n",
      "(0, 1) 2\n",
      "(0, 2) 3\n",
      "(1, 0) 4\n",
      "(1, 1) 5\n",
      "(1, 2) 6\n"
     ]
    }
   ],
   "source": [
    "a2=np.array([[1,2,3],\n",
    "             [4,5,6]])\n",
    "for id,j in np.ndenumerate(a2):\n",
    "    print(id,j)"
   ]
  },
  {
   "cell_type": "code",
   "execution_count": 52,
   "id": "beab3902-9ab5-4d8f-b169-91fde7782331",
   "metadata": {},
   "outputs": [
    {
     "name": "stdout",
     "output_type": "stream",
     "text": [
      "(0, 0, 0) 1\n",
      "(0, 0, 1) 2\n",
      "(0, 0, 2) 3\n",
      "(0, 1, 0) 5\n",
      "(0, 1, 1) 6\n",
      "(0, 1, 2) 7\n",
      "(1, 0, 0) 8\n",
      "(1, 0, 1) 9\n",
      "(1, 0, 2) 0\n",
      "(1, 1, 0) 1\n",
      "(1, 1, 1) 2\n",
      "(1, 1, 2) 3\n"
     ]
    }
   ],
   "source": [
    "a3=np.array([[[1,2,3],[5,6,7]],[[8,9,0],[1,2,3]]])\n",
    "for i,j in np.ndenumerate(a3):\n",
    "    print(i,j)"
   ]
  },
  {
   "cell_type": "code",
   "execution_count": 58,
   "id": "26b09f39-8122-45e1-9811-c88ab15d00ba",
   "metadata": {},
   "outputs": [
    {
     "data": {
      "text/plain": [
       "array([ 1,  3,  5,  7,  9,  2,  4,  6,  8, 10])"
      ]
     },
     "execution_count": 58,
     "metadata": {},
     "output_type": "execute_result"
    }
   ],
   "source": [
    "#concatenate\n",
    "a1=np.array([1,3,5,7,9])\n",
    "a2=np.array([2,4,6,8,10])\n",
    "arr=np.concatenate((a1,a2))\n",
    "arr"
   ]
  },
  {
   "cell_type": "code",
   "execution_count": 62,
   "id": "77c8ab08-f662-40ee-b78d-f661135f5a26",
   "metadata": {},
   "outputs": [
    {
     "data": {
      "text/plain": [
       "array([[ 1,  3,  5],\n",
       "       [ 7,  8,  9],\n",
       "       [ 2,  4,  6],\n",
       "       [ 8, 10, 12]])"
      ]
     },
     "execution_count": 62,
     "metadata": {},
     "output_type": "execute_result"
    }
   ],
   "source": [
    "arr1=np.array([[1,3,5],[7,8,9]])\n",
    "arr2=np.array([[2,4,6],[8,10,12]])\n",
    "arr=np.concatenate((arr1,arr2))\n",
    "arr\n",
    "                   "
   ]
  },
  {
   "cell_type": "code",
   "execution_count": 66,
   "id": "3f4d726a-e119-4631-8b3b-c4b03b1da317",
   "metadata": {},
   "outputs": [
    {
     "data": {
      "text/plain": [
       "array([[ 1,  3,  5,  2,  4,  6],\n",
       "       [ 7,  8,  9,  8, 10, 12]])"
      ]
     },
     "execution_count": 66,
     "metadata": {},
     "output_type": "execute_result"
    }
   ],
   "source": [
    "arrr=np.concatenate((arr1,arr2),axis=1)\n",
    "arrr"
   ]
  },
  {
   "cell_type": "code",
   "execution_count": 15,
   "id": "e5e86efa-8b7f-48b5-8239-1908da8de53c",
   "metadata": {},
   "outputs": [
    {
     "data": {
      "text/plain": [
       "array([[[1, 2, 3, 4],\n",
       "        [1, 2, 3, 4]],\n",
       "\n",
       "       [[5, 6, 7, 8],\n",
       "        [5, 6, 7, 8]],\n",
       "\n",
       "       [[2, 4, 6, 8],\n",
       "        [2, 4, 6, 8]],\n",
       "\n",
       "       [[1, 3, 5, 7],\n",
       "        [1, 3, 5, 7]]])"
      ]
     },
     "execution_count": 15,
     "metadata": {},
     "output_type": "execute_result"
    }
   ],
   "source": [
    "import numpy as np\n",
    "ara=np.array([[[1,2,3,4],[1,2,3,4]],\n",
    "              [[5,6,7,8],[5,6,7,8]]])\n",
    "ara1=np.array([[[2,4,6,8],[2,4,6,8]],\n",
    "               [[1,3,5,7],[1,3,5,7]]])\n",
    "araa=np.concatenate((ara,ara1))\n",
    "araa"
   ]
  },
  {
   "cell_type": "code",
   "execution_count": 17,
   "id": "6af6e0bf-aa2a-484e-b201-05ad2417ab49",
   "metadata": {},
   "outputs": [
    {
     "data": {
      "text/plain": [
       "array([[[1, 2, 3, 4],\n",
       "        [1, 2, 3, 4],\n",
       "        [2, 4, 6, 8],\n",
       "        [2, 4, 6, 8]],\n",
       "\n",
       "       [[5, 6, 7, 8],\n",
       "        [5, 6, 7, 8],\n",
       "        [1, 3, 5, 7],\n",
       "        [1, 3, 5, 7]]])"
      ]
     },
     "execution_count": 17,
     "metadata": {},
     "output_type": "execute_result"
    }
   ],
   "source": [
    "araa2=np.concatenate((ara,ara1),axis=1)\n",
    "araa2"
   ]
  },
  {
   "cell_type": "code",
   "execution_count": 21,
   "id": "2cecaae0-edc6-49df-8257-d3c4fde2250a",
   "metadata": {},
   "outputs": [
    {
     "data": {
      "text/plain": [
       "array([[1, 2, 3],\n",
       "       [4, 5, 6]])"
      ]
     },
     "execution_count": 21,
     "metadata": {},
     "output_type": "execute_result"
    }
   ],
   "source": [
    "#stack:\n",
    "import numpy as np\n",
    "arr1=np.array([1,2,3])\n",
    "arr2=np.array([4,5,6])\n",
    "arr=np.vstack((arr1,arr2))\n",
    "arr"
   ]
  },
  {
   "cell_type": "code",
   "execution_count": 23,
   "id": "ee92038c-4e8b-41be-9af9-b11655fbb592",
   "metadata": {},
   "outputs": [
    {
     "data": {
      "text/plain": [
       "array([1, 2, 3, 4, 5, 6])"
      ]
     },
     "execution_count": 23,
     "metadata": {},
     "output_type": "execute_result"
    }
   ],
   "source": [
    "a=np.hstack((arr1,arr2))\n",
    "a"
   ]
  },
  {
   "cell_type": "code",
   "execution_count": 25,
   "id": "9e4d3987-b7e7-46f6-a872-957882ef52e8",
   "metadata": {},
   "outputs": [
    {
     "data": {
      "text/plain": [
       "array([[1, 2, 3],\n",
       "       [4, 5, 6]])"
      ]
     },
     "execution_count": 25,
     "metadata": {},
     "output_type": "execute_result"
    }
   ],
   "source": [
    "b=np.stack((arr1,arr2))\n",
    "b"
   ]
  },
  {
   "cell_type": "code",
   "execution_count": 27,
   "id": "43847ebd-3da4-4620-b694-a29fab90f6b0",
   "metadata": {},
   "outputs": [
    {
     "data": {
      "text/plain": [
       "array([[[1, 4],\n",
       "        [2, 5],\n",
       "        [3, 6]]])"
      ]
     },
     "execution_count": 27,
     "metadata": {},
     "output_type": "execute_result"
    }
   ],
   "source": [
    "c=np.dstack((arr1,arr2))\n",
    "c"
   ]
  },
  {
   "cell_type": "code",
   "execution_count": 5,
   "id": "9c448f4c-814b-4593-8bd3-15cfcf9441b5",
   "metadata": {},
   "outputs": [
    {
     "data": {
      "text/plain": [
       "array([[ 1,  2],\n",
       "       [ 3,  4],\n",
       "       [ 5,  6],\n",
       "       [ 2,  4],\n",
       "       [ 6,  8],\n",
       "       [10, 12]])"
      ]
     },
     "execution_count": 5,
     "metadata": {},
     "output_type": "execute_result"
    }
   ],
   "source": [
    "import numpy as np\n",
    "a=np.array([[1,2],[3,4],[5,6]])\n",
    "b=np.array([[2,4],[6,8],[10,12]])\n",
    "np.concatenate((a,b),axis=0)"
   ]
  },
  {
   "cell_type": "code",
   "execution_count": 3,
   "id": "0e35d89d-ab12-4656-8534-8b78b79b7ec1",
   "metadata": {},
   "outputs": [
    {
     "data": {
      "text/plain": [
       "array([[ 1,  2,  2,  4],\n",
       "       [ 3,  4,  6,  8],\n",
       "       [ 5,  6, 10, 12]])"
      ]
     },
     "execution_count": 3,
     "metadata": {},
     "output_type": "execute_result"
    }
   ],
   "source": [
    "np.concatenate((a,b),axis=1)"
   ]
  },
  {
   "cell_type": "code",
   "execution_count": 7,
   "id": "c4d04bc5-4fff-4cb5-bbbe-9babec5ad6fb",
   "metadata": {},
   "outputs": [
    {
     "data": {
      "text/plain": [
       "array([1, 2, 3, 4, 5, 6, 7, 8])"
      ]
     },
     "execution_count": 7,
     "metadata": {},
     "output_type": "execute_result"
    }
   ],
   "source": [
    "arr1=np.array([1,2,3,4])\n",
    "arr2=np.array([5,6,7,8])\n",
    "np.concatenate((arr1,arr2))"
   ]
  },
  {
   "cell_type": "code",
   "execution_count": 11,
   "id": "db692311-c37c-438e-bc72-ba0ac14dd7f3",
   "metadata": {},
   "outputs": [
    {
     "data": {
      "text/plain": [
       "array([[1, 2, 3, 4],\n",
       "       [5, 6, 7, 8]])"
      ]
     },
     "execution_count": 11,
     "metadata": {},
     "output_type": "execute_result"
    }
   ],
   "source": [
    "np.stack((arr1,arr2),axis=0)"
   ]
  },
  {
   "cell_type": "code",
   "execution_count": 13,
   "id": "73ac17b2-1f35-43b0-9189-7d12058e169a",
   "metadata": {},
   "outputs": [
    {
     "data": {
      "text/plain": [
       "array([[1, 5],\n",
       "       [2, 6],\n",
       "       [3, 7],\n",
       "       [4, 8]])"
      ]
     },
     "execution_count": 13,
     "metadata": {},
     "output_type": "execute_result"
    }
   ],
   "source": [
    "np.stack((arr1,arr2),axis=1)"
   ]
  },
  {
   "cell_type": "code",
   "execution_count": 15,
   "id": "f8b186b9-c217-423b-9f19-c559fd948c96",
   "metadata": {},
   "outputs": [
    {
     "data": {
      "text/plain": [
       "array([[[ 1,  2],\n",
       "        [ 3,  4],\n",
       "        [ 5,  6]],\n",
       "\n",
       "       [[ 2,  4],\n",
       "        [ 6,  8],\n",
       "        [10, 12]]])"
      ]
     },
     "execution_count": 15,
     "metadata": {},
     "output_type": "execute_result"
    }
   ],
   "source": [
    "np.stack((a,b),axis=0)"
   ]
  },
  {
   "cell_type": "code",
   "execution_count": 17,
   "id": "b697797b-b029-4e1e-88a8-0d9ea7e29312",
   "metadata": {},
   "outputs": [
    {
     "data": {
      "text/plain": [
       "array([[[ 1,  2],\n",
       "        [ 2,  4]],\n",
       "\n",
       "       [[ 3,  4],\n",
       "        [ 6,  8]],\n",
       "\n",
       "       [[ 5,  6],\n",
       "        [10, 12]]])"
      ]
     },
     "execution_count": 17,
     "metadata": {},
     "output_type": "execute_result"
    }
   ],
   "source": [
    "np.stack((a,b),axis=1)"
   ]
  },
  {
   "cell_type": "code",
   "execution_count": 19,
   "id": "bd22c2c4-c265-439d-a560-77bbe9291aa3",
   "metadata": {},
   "outputs": [
    {
     "data": {
      "text/plain": [
       "array([[[ 1,  2],\n",
       "        [ 2,  4]],\n",
       "\n",
       "       [[ 3,  6],\n",
       "        [ 4,  8]],\n",
       "\n",
       "       [[ 5, 10],\n",
       "        [ 6, 12]]])"
      ]
     },
     "execution_count": 19,
     "metadata": {},
     "output_type": "execute_result"
    }
   ],
   "source": [
    "np.stack((a,b),axis=2)"
   ]
  },
  {
   "cell_type": "code",
   "execution_count": 21,
   "id": "534b2f60-e819-4a22-aa30-bede60a233f3",
   "metadata": {},
   "outputs": [
    {
     "data": {
      "text/plain": [
       "array([[ 1,  2,  2,  4],\n",
       "       [ 3,  4,  6,  8],\n",
       "       [ 5,  6, 10, 12]])"
      ]
     },
     "execution_count": 21,
     "metadata": {},
     "output_type": "execute_result"
    }
   ],
   "source": [
    "np.hstack((a,b))"
   ]
  },
  {
   "cell_type": "code",
   "execution_count": 23,
   "id": "f8fe3a53-31e3-4987-8559-15760dcd01ae",
   "metadata": {},
   "outputs": [
    {
     "data": {
      "text/plain": [
       "array([[ 1,  2],\n",
       "       [ 3,  4],\n",
       "       [ 5,  6],\n",
       "       [ 2,  4],\n",
       "       [ 6,  8],\n",
       "       [10, 12]])"
      ]
     },
     "execution_count": 23,
     "metadata": {},
     "output_type": "execute_result"
    }
   ],
   "source": [
    "np.vstack((a,b))"
   ]
  },
  {
   "cell_type": "code",
   "execution_count": 29,
   "id": "cc9de064-7d5d-4e82-bc6a-029aac0571ba",
   "metadata": {},
   "outputs": [
    {
     "data": {
      "text/plain": [
       "[array([1, 2]), array([3, 4]), array([5]), array([6])]"
      ]
     },
     "execution_count": 29,
     "metadata": {},
     "output_type": "execute_result"
    }
   ],
   "source": [
    "a=np.array([1,2,3,4,5,6])\n",
    "\n",
    "np.array_split(a,4)"
   ]
  },
  {
   "cell_type": "code",
   "execution_count": 31,
   "id": "2a1bd8b0-8074-471d-8897-1f09a0d1bdce",
   "metadata": {},
   "outputs": [
    {
     "data": {
      "text/plain": [
       "array([1, 2])"
      ]
     },
     "execution_count": 31,
     "metadata": {},
     "output_type": "execute_result"
    }
   ],
   "source": [
    "newarray=np.array_split(a,4)\n",
    "newarray[0]"
   ]
  },
  {
   "cell_type": "code",
   "execution_count": 33,
   "id": "8bb839e1-e017-4fe1-b9ee-96f36c5ae46b",
   "metadata": {},
   "outputs": [
    {
     "data": {
      "text/plain": [
       "array([5])"
      ]
     },
     "execution_count": 33,
     "metadata": {},
     "output_type": "execute_result"
    }
   ],
   "source": [
    "newarray[2]"
   ]
  },
  {
   "cell_type": "code",
   "execution_count": 37,
   "id": "7bf1a504-d9b1-4802-822b-0b871988c368",
   "metadata": {},
   "outputs": [
    {
     "data": {
      "text/plain": [
       "[array([[1, 2, 3, 4],\n",
       "        [5, 6, 7, 8]]),\n",
       " array([[ 9, 10, 11, 12]])]"
      ]
     },
     "execution_count": 37,
     "metadata": {},
     "output_type": "execute_result"
    }
   ],
   "source": [
    "arr=np.array([[1,2,3,4],[5,6,7,8],[9,10,11,12]])\n",
    "np.array_split(arr,2)"
   ]
  },
  {
   "cell_type": "code",
   "execution_count": 39,
   "id": "14bd273c-50f2-48ff-a88b-050a11cbc02e",
   "metadata": {},
   "outputs": [
    {
     "data": {
      "text/plain": [
       "[array([[ 1,  2],\n",
       "        [ 5,  6],\n",
       "        [ 9, 10]]),\n",
       " array([[ 3,  4],\n",
       "        [ 7,  8],\n",
       "        [11, 12]])]"
      ]
     },
     "execution_count": 39,
     "metadata": {},
     "output_type": "execute_result"
    }
   ],
   "source": [
    "np.array_split(arr,2,axis=1)"
   ]
  },
  {
   "cell_type": "code",
   "execution_count": 41,
   "id": "d1e49ce1-26fe-49ac-b0b4-ba7098da268f",
   "metadata": {},
   "outputs": [
    {
     "data": {
      "text/plain": [
       "[array([[1, 2, 3, 4]]), array([[5, 6, 7, 8]]), array([[ 9, 10, 11, 12]])]"
      ]
     },
     "execution_count": 41,
     "metadata": {},
     "output_type": "execute_result"
    }
   ],
   "source": [
    "np.array_split(arr,3)"
   ]
  },
  {
   "cell_type": "code",
   "execution_count": 43,
   "id": "9a9663c5-7828-4d5d-9c33-8f15ca72d1a5",
   "metadata": {},
   "outputs": [
    {
     "data": {
      "text/plain": [
       "[array([[ 1,  2],\n",
       "        [ 5,  6],\n",
       "        [ 9, 10]]),\n",
       " array([[ 3],\n",
       "        [ 7],\n",
       "        [11]]),\n",
       " array([[ 4],\n",
       "        [ 8],\n",
       "        [12]])]"
      ]
     },
     "execution_count": 43,
     "metadata": {},
     "output_type": "execute_result"
    }
   ],
   "source": [
    "np.array_split(arr,3,axis=1)"
   ]
  },
  {
   "cell_type": "code",
   "execution_count": 45,
   "id": "9f7bcbae-dc99-4409-8e81-a4cf132aa768",
   "metadata": {},
   "outputs": [],
   "source": [
    "# hstack:row wise data edukkum\n",
    "#vstack:column wise data edukkum\n"
   ]
  },
  {
   "cell_type": "code",
   "execution_count": 47,
   "id": "9ad584fe-02c9-4f6a-974b-d1b3b929adda",
   "metadata": {},
   "outputs": [],
   "source": [
    "#np.hsplit()\n",
    "#np.vsplit()"
   ]
  },
  {
   "cell_type": "code",
   "execution_count": 51,
   "id": "cfbf07a0-7eec-4b5e-bb11-c5770edb4ea7",
   "metadata": {},
   "outputs": [
    {
     "data": {
      "text/plain": [
       "(array([3, 5], dtype=int64),)"
      ]
     },
     "execution_count": 51,
     "metadata": {},
     "output_type": "execute_result"
    }
   ],
   "source": [
    "a=np.array([1,2,3,4,5,4,3,6,7,6,8])\n",
    "x=np.where(a==4)\n",
    "x"
   ]
  },
  {
   "cell_type": "code",
   "execution_count": 53,
   "id": "d0a7a2fb-d5b8-4ebf-8921-765c62eae1ea",
   "metadata": {},
   "outputs": [
    {
     "data": {
      "text/plain": [
       "(array([ 1,  3,  5,  7,  9, 10], dtype=int64),)"
      ]
     },
     "execution_count": 53,
     "metadata": {},
     "output_type": "execute_result"
    }
   ],
   "source": [
    "y=np.where(a%2==0)\n",
    "y"
   ]
  },
  {
   "cell_type": "code",
   "execution_count": 55,
   "id": "d83723a5-699e-4c0f-aa59-8e478873358d",
   "metadata": {},
   "outputs": [
    {
     "data": {
      "text/plain": [
       "(array([2, 3], dtype=int64), array([0, 1], dtype=int64))"
      ]
     },
     "execution_count": 55,
     "metadata": {},
     "output_type": "execute_result"
    }
   ],
   "source": [
    "arr=np.array([[1,2],[3,4],[5,6],[2,5]])\n",
    "np.where(arr==5)"
   ]
  },
  {
   "cell_type": "code",
   "execution_count": 73,
   "id": "b36f9acc-725d-47aa-8176-a2a8f5856285",
   "metadata": {},
   "outputs": [
    {
     "data": {
      "text/plain": [
       "4"
      ]
     },
     "execution_count": 73,
     "metadata": {},
     "output_type": "execute_result"
    }
   ],
   "source": [
    "#search_sort:\n",
    "a=np.array([1,2,3,4,5,6])\n",
    "np.searchsorted(a,5,side='left')"
   ]
  },
  {
   "cell_type": "code",
   "execution_count": 77,
   "id": "94224de4-662d-4843-a913-e8f4c20463cd",
   "metadata": {},
   "outputs": [
    {
     "data": {
      "text/plain": [
       "5"
      ]
     },
     "execution_count": 77,
     "metadata": {},
     "output_type": "execute_result"
    }
   ],
   "source": [
    "np.searchsorted(a,5,side='right')# we get the output before "
   ]
  },
  {
   "cell_type": "code",
   "execution_count": 79,
   "id": "53c71cdd-2f12-4167-a140-ad917dfd7fb7",
   "metadata": {},
   "outputs": [
    {
     "data": {
      "text/plain": [
       "array([ 2,  5, 23, 36, 45, 74])"
      ]
     },
     "execution_count": 79,
     "metadata": {},
     "output_type": "execute_result"
    }
   ],
   "source": [
    "#sort:NB\n",
    "a=np.array([23,45,2,36,74,5])\n",
    "np.sort(a)"
   ]
  },
  {
   "cell_type": "code",
   "execution_count": 81,
   "id": "55271025-b456-4d43-8922-8b15721ae994",
   "metadata": {},
   "outputs": [
    {
     "data": {
      "text/plain": [
       "array(['ajeeba', 'haneefa', 'husna', 'khadeeja', 'nisha', 'sahal'],\n",
       "      dtype='<U8')"
      ]
     },
     "execution_count": 81,
     "metadata": {},
     "output_type": "execute_result"
    }
   ],
   "source": [
    "s=np.array(['ajeeba','sahal','khadeeja','husna','haneefa','nisha'])\n",
    "np.sort(s)"
   ]
  },
  {
   "cell_type": "code",
   "execution_count": 1,
   "id": "434a00e8-de62-416a-8329-b4592262543c",
   "metadata": {},
   "outputs": [],
   "source": [
    "import numpy as np\n"
   ]
  },
  {
   "cell_type": "code",
   "execution_count": 3,
   "id": "95dc901f-914e-473d-a21e-372ce3e6d566",
   "metadata": {},
   "outputs": [
    {
     "name": "stdout",
     "output_type": "stream",
     "text": [
      "Requirement already satisfied: nbconvert in c:\\users\\hp\\anaconda3\\lib\\site-packages (7.10.0)\n",
      "Requirement already satisfied: beautifulsoup4 in c:\\users\\hp\\anaconda3\\lib\\site-packages (from nbconvert) (4.12.3)\n",
      "Requirement already satisfied: bleach!=5.0.0 in c:\\users\\hp\\anaconda3\\lib\\site-packages (from nbconvert) (4.1.0)\n",
      "Requirement already satisfied: defusedxml in c:\\users\\hp\\anaconda3\\lib\\site-packages (from nbconvert) (0.7.1)\n",
      "Requirement already satisfied: jinja2>=3.0 in c:\\users\\hp\\anaconda3\\lib\\site-packages (from nbconvert) (3.1.4)\n",
      "Requirement already satisfied: jupyter-core>=4.7 in c:\\users\\hp\\anaconda3\\lib\\site-packages (from nbconvert) (5.7.2)\n",
      "Requirement already satisfied: jupyterlab-pygments in c:\\users\\hp\\anaconda3\\lib\\site-packages (from nbconvert) (0.1.2)\n",
      "Requirement already satisfied: markupsafe>=2.0 in c:\\users\\hp\\anaconda3\\lib\\site-packages (from nbconvert) (2.1.3)\n",
      "Requirement already satisfied: mistune<4,>=2.0.3 in c:\\users\\hp\\anaconda3\\lib\\site-packages (from nbconvert) (2.0.4)\n",
      "Requirement already satisfied: nbclient>=0.5.0 in c:\\users\\hp\\anaconda3\\lib\\site-packages (from nbconvert) (0.8.0)\n",
      "Requirement already satisfied: nbformat>=5.7 in c:\\users\\hp\\anaconda3\\lib\\site-packages (from nbconvert) (5.9.2)\n",
      "Requirement already satisfied: packaging in c:\\users\\hp\\anaconda3\\lib\\site-packages (from nbconvert) (23.2)\n",
      "Requirement already satisfied: pandocfilters>=1.4.1 in c:\\users\\hp\\anaconda3\\lib\\site-packages (from nbconvert) (1.5.0)\n",
      "Requirement already satisfied: pygments>=2.4.1 in c:\\users\\hp\\anaconda3\\lib\\site-packages (from nbconvert) (2.15.1)\n",
      "Requirement already satisfied: tinycss2 in c:\\users\\hp\\anaconda3\\lib\\site-packages (from nbconvert) (1.2.1)\n",
      "Requirement already satisfied: traitlets>=5.1 in c:\\users\\hp\\anaconda3\\lib\\site-packages (from nbconvert) (5.14.3)\n",
      "Requirement already satisfied: six>=1.9.0 in c:\\users\\hp\\anaconda3\\lib\\site-packages (from bleach!=5.0.0->nbconvert) (1.16.0)\n",
      "Requirement already satisfied: webencodings in c:\\users\\hp\\anaconda3\\lib\\site-packages (from bleach!=5.0.0->nbconvert) (0.5.1)\n",
      "Requirement already satisfied: platformdirs>=2.5 in c:\\users\\hp\\anaconda3\\lib\\site-packages (from jupyter-core>=4.7->nbconvert) (3.10.0)\n",
      "Requirement already satisfied: pywin32>=300 in c:\\users\\hp\\anaconda3\\lib\\site-packages (from jupyter-core>=4.7->nbconvert) (305.1)\n",
      "Requirement already satisfied: jupyter-client>=6.1.12 in c:\\users\\hp\\anaconda3\\lib\\site-packages (from nbclient>=0.5.0->nbconvert) (8.6.0)\n",
      "Requirement already satisfied: fastjsonschema in c:\\users\\hp\\anaconda3\\lib\\site-packages (from nbformat>=5.7->nbconvert) (2.16.2)\n",
      "Requirement already satisfied: jsonschema>=2.6 in c:\\users\\hp\\anaconda3\\lib\\site-packages (from nbformat>=5.7->nbconvert) (4.19.2)\n",
      "Requirement already satisfied: soupsieve>1.2 in c:\\users\\hp\\anaconda3\\lib\\site-packages (from beautifulsoup4->nbconvert) (2.5)\n",
      "Requirement already satisfied: attrs>=22.2.0 in c:\\users\\hp\\anaconda3\\lib\\site-packages (from jsonschema>=2.6->nbformat>=5.7->nbconvert) (23.1.0)\n",
      "Requirement already satisfied: jsonschema-specifications>=2023.03.6 in c:\\users\\hp\\anaconda3\\lib\\site-packages (from jsonschema>=2.6->nbformat>=5.7->nbconvert) (2023.7.1)\n",
      "Requirement already satisfied: referencing>=0.28.4 in c:\\users\\hp\\anaconda3\\lib\\site-packages (from jsonschema>=2.6->nbformat>=5.7->nbconvert) (0.30.2)\n",
      "Requirement already satisfied: rpds-py>=0.7.1 in c:\\users\\hp\\anaconda3\\lib\\site-packages (from jsonschema>=2.6->nbformat>=5.7->nbconvert) (0.10.6)\n",
      "Requirement already satisfied: python-dateutil>=2.8.2 in c:\\users\\hp\\anaconda3\\lib\\site-packages (from jupyter-client>=6.1.12->nbclient>=0.5.0->nbconvert) (2.9.0.post0)\n",
      "Requirement already satisfied: pyzmq>=23.0 in c:\\users\\hp\\anaconda3\\lib\\site-packages (from jupyter-client>=6.1.12->nbclient>=0.5.0->nbconvert) (25.1.2)\n",
      "Requirement already satisfied: tornado>=6.2 in c:\\users\\hp\\anaconda3\\lib\\site-packages (from jupyter-client>=6.1.12->nbclient>=0.5.0->nbconvert) (6.4.1)\n",
      "Note: you may need to restart the kernel to use updated packages.\n"
     ]
    }
   ],
   "source": [
    "pip install nbconvert"
   ]
  },
  {
   "cell_type": "code",
   "execution_count": 11,
   "id": "c67c2d58-da88-43f0-8722-063c7235a757",
   "metadata": {},
   "outputs": [
    {
     "name": "stderr",
     "output_type": "stream",
     "text": [
      "usage: jupyter [-h] [--version] [--config-dir] [--data-dir] [--runtime-dir]\n",
      "               [--paths] [--json] [--debug]\n",
      "               [subcommand]\n",
      "\n",
      "Jupyter: Interactive Computing\n",
      "\n",
      "positional arguments:\n",
      "  subcommand     the subcommand to launch\n",
      "\n",
      "options:\n",
      "  -h, --help     show this help message and exit\n",
      "  --version      show the versions of core jupyter packages and exit\n",
      "  --config-dir   show Jupyter config dir\n",
      "  --data-dir     show Jupyter data dir\n",
      "  --runtime-dir  show Jupyter runtime dir\n",
      "  --paths        show all Jupyter paths. Add --json for machine-readable\n",
      "                 format.\n",
      "  --json         output paths as machine-readable json\n",
      "  --debug        output debug information about paths\n",
      "\n",
      "Available subcommands: console dejavu events execute kernel kernelspec lab\n",
      "labextension labhub migrate nbconvert notebook qtconsole run script server\n",
      "troubleshoot trust\n",
      "\n",
      "Jupyter command `jupyter-nbconvert--to` not found.\n"
     ]
    }
   ],
   "source": [
    "!jupyter nbconvert--to html/content/numpyday1.ipynb"
   ]
  },
  {
   "cell_type": "code",
   "execution_count": 15,
   "id": "0a23c8ae-6a7f-46bb-aed3-737e6fe20e9e",
   "metadata": {},
   "outputs": [
    {
     "data": {
      "text/plain": [
       "array([0, 0, 0, 4, 5])"
      ]
     },
     "execution_count": 15,
     "metadata": {},
     "output_type": "execute_result"
    }
   ],
   "source": [
    "import numpy as np\n",
    "#where()using condition\n",
    "a=np.array([1,2,3,4,5])\n",
    "b=np.where(a<4,0,a)\n",
    "b"
   ]
  },
  {
   "cell_type": "code",
   "execution_count": 17,
   "id": "c621dbc8-5fe9-47bf-8f89-7fcaaca5fabf",
   "metadata": {},
   "outputs": [
    {
     "data": {
      "text/plain": [
       "array([[2, 3, 4, 5],\n",
       "       [3, 6, 7, 8],\n",
       "       [2, 3, 5, 7]])"
      ]
     },
     "execution_count": 17,
     "metadata": {},
     "output_type": "execute_result"
    }
   ],
   "source": [
    "a=np.array([[4,3,2,5],[3,8,7,6],[7,3,2,5]])\n",
    "np.sort(a)"
   ]
  },
  {
   "cell_type": "code",
   "execution_count": 19,
   "id": "80801633-ac7b-4cdc-8e73-054dd632ec69",
   "metadata": {},
   "outputs": [
    {
     "data": {
      "text/plain": [
       "array([41, 43])"
      ]
     },
     "execution_count": 19,
     "metadata": {},
     "output_type": "execute_result"
    }
   ],
   "source": [
    "#filter function: arr is item weneed specific no. so we assign \n",
    "arr=np.array([41,42,43,44])\n",
    "x=[True,False,True,False]\n",
    "arr[x]"
   ]
  },
  {
   "cell_type": "code",
   "execution_count": 23,
   "id": "5ec785ea-1196-4945-a33b-39bcb2be2027",
   "metadata": {},
   "outputs": [
    {
     "data": {
      "text/plain": [
       "array([ 2,  4,  6,  8, 10])"
      ]
     },
     "execution_count": 23,
     "metadata": {},
     "output_type": "execute_result"
    }
   ],
   "source": [
    "a=np.arange(1,11)\n",
    "a\n",
    "filter_arr=[]\n",
    "for i in a:\n",
    "    if i%2==0:\n",
    "        filter_arr.append(True)\n",
    "    else:\n",
    "        filter_arr.append(False)\n",
    "array=a[filter_arr]\n",
    "array"
   ]
  },
  {
   "cell_type": "code",
   "execution_count": 25,
   "id": "50c0b28b-1c10-406f-915d-624ba40a5e60",
   "metadata": {},
   "outputs": [
    {
     "data": {
      "text/plain": [
       "array([ 6,  7,  8,  9, 10])"
      ]
     },
     "execution_count": 25,
     "metadata": {},
     "output_type": "execute_result"
    }
   ],
   "source": [
    "filter_array=a>5\n",
    "new_array=a[filter_array]\n",
    "new_array"
   ]
  },
  {
   "cell_type": "code",
   "execution_count": 27,
   "id": "705df3c0-091b-4972-adfd-665953742971",
   "metadata": {},
   "outputs": [
    {
     "name": "stdout",
     "output_type": "stream",
     "text": [
      "[ 1  2  3  4  5  6  7  8  9 10 11 12 13 14 15 16 17 18 19 20 21 22 23 24\n",
      " 25 26 27 28 29 30 31 32 33 34 35 36 37 38 39 40 41 42 43 44 45 46 47 48\n",
      " 49]\n"
     ]
    },
    {
     "data": {
      "text/plain": [
       "array([ 1,  3,  5,  7,  9, 11, 13, 15, 17, 19, 21, 23, 25, 27, 29, 31, 33,\n",
       "       35, 37, 39, 41, 43, 45, 47, 49])"
      ]
     },
     "execution_count": 27,
     "metadata": {},
     "output_type": "execute_result"
    }
   ],
   "source": [
    "b=np.arange(1,50)\n",
    "print(b)\n",
    "filter_arra=[]\n",
    "for i in b:\n",
    "    if i%2!=0:\n",
    "        filter_arra.append(True)\n",
    "    else:\n",
    "        filter_arra.append(False)\n",
    "array=b[filter_arra]\n",
    "array"
   ]
  },
  {
   "cell_type": "code",
   "execution_count": 31,
   "id": "d2d6f2ef-9a7c-4134-bac1-c31197e042a8",
   "metadata": {},
   "outputs": [
    {
     "data": {
      "text/plain": [
       "0.4009016270641943"
      ]
     },
     "execution_count": 31,
     "metadata": {},
     "output_type": "execute_result"
    }
   ],
   "source": [
    "#random numbers:\n",
    "arr=np.random.rand()##to get numbers from 0 to1#based on psudo\n",
    "arr"
   ]
  },
  {
   "cell_type": "code",
   "execution_count": 35,
   "id": "d930cc47-8081-4891-bbb9-923c932ca5e5",
   "metadata": {},
   "outputs": [
    {
     "data": {
      "text/plain": [
       "array([0.718534  , 0.26984556, 0.29424021, 0.11768053, 0.1768377 ])"
      ]
     },
     "execution_count": 35,
     "metadata": {},
     "output_type": "execute_result"
    }
   ],
   "source": [
    "a=np.random.rand(5)\n",
    "a"
   ]
  },
  {
   "cell_type": "code",
   "execution_count": 43,
   "id": "1d0585d9-d5ec-452d-8c77-c990bf7243f6",
   "metadata": {},
   "outputs": [
    {
     "data": {
      "text/plain": [
       "array([5, 8, 6, 1, 3])"
      ]
     },
     "execution_count": 43,
     "metadata": {},
     "output_type": "execute_result"
    }
   ],
   "source": [
    "b=np.random.randint(1,10,5)#b=np.random.randint(1,10,size=5)\n",
    "b"
   ]
  },
  {
   "cell_type": "code",
   "execution_count": 54,
   "id": "d78ace21-a1ff-45dd-ac59-690eb4d4ff78",
   "metadata": {},
   "outputs": [
    {
     "name": "stdout",
     "output_type": "stream",
     "text": [
      "[0.37454012 0.95071431 0.73199394 0.59865848 0.15601864]\n"
     ]
    }
   ],
   "source": [
    "#to avoid randomness we use seed.\n",
    "np.random.seed(42)\n",
    "reproducible_random_array=np.random.rand(5)\n",
    "print(reproducible_random_array)"
   ]
  },
  {
   "cell_type": "code",
   "execution_count": 59,
   "id": "598d8ede-35dc-4f97-9670-93f9a83a0237",
   "metadata": {},
   "outputs": [
    {
     "data": {
      "text/plain": [
       "5.290418060840997"
      ]
     },
     "execution_count": 59,
     "metadata": {},
     "output_type": "execute_result"
    }
   ],
   "source": [
    "#to get float numbers between any number:\n",
    "np.random.uniform(5)"
   ]
  },
  {
   "cell_type": "code",
   "execution_count": 61,
   "id": "3363907f-56a1-43fc-9ed6-5d11be0af6d4",
   "metadata": {},
   "outputs": [
    {
     "data": {
      "text/plain": [
       "9.330880728874675"
      ]
     },
     "execution_count": 61,
     "metadata": {},
     "output_type": "execute_result"
    }
   ],
   "source": [
    "np.random.uniform(5,10)"
   ]
  },
  {
   "cell_type": "code",
   "execution_count": 63,
   "id": "2f3da1ca-19ed-44d8-bc59-6166e5e40a99",
   "metadata": {},
   "outputs": [
    {
     "data": {
      "text/plain": [
       "array([8.00557506, 8.54036289, 5.10292247, 9.84954926, 9.1622132 ])"
      ]
     },
     "execution_count": 63,
     "metadata": {},
     "output_type": "execute_result"
    }
   ],
   "source": [
    "np.random.uniform(5,10,5)"
   ]
  },
  {
   "cell_type": "code",
   "execution_count": 65,
   "id": "d165c0a6-347a-47ec-9687-1c2df05d77fd",
   "metadata": {},
   "outputs": [
    {
     "data": {
      "text/plain": [
       "array([22.02157196, 19.00067175, 19.15704648, 31.11998205, 52.95088673,\n",
       "       43.76255685, 29.83168488, 61.57343658, 14.8098922 , 29.9223202 ,\n",
       "       37.26982249, 46.15092844, 78.73242018, 20.76770443, 51.9092094 ,\n",
       "       59.64904232,  5.59859086, 61.14694034, 17.88188825,  7.44010771])"
      ]
     },
     "execution_count": 65,
     "metadata": {},
     "output_type": "execute_result"
    }
   ],
   "source": [
    "np.random.uniform(1,100,20)"
   ]
  },
  {
   "cell_type": "code",
   "execution_count": 67,
   "id": "c14c15f0-1184-42ec-9cf8-f7078300557d",
   "metadata": {},
   "outputs": [
    {
     "data": {
      "text/plain": [
       "array([-0.60025385,  0.94743982,  0.291034  , -0.63555974, -1.02155219,\n",
       "       -0.16175539, -0.5336488 , -0.00552786, -0.22945045,  0.38934891,\n",
       "       -1.26511911,  1.09199226,  2.77831304,  1.19363972,  0.21863832,\n",
       "        0.88176104, -1.00908534, -1.58329421,  0.77370042, -0.53814166,\n",
       "       -1.3466781 , -0.88059127, -1.1305523 ,  0.13442888,  0.58212279,\n",
       "        0.88774846,  0.89433233,  0.7549978 , -0.20716589, -0.62347739,\n",
       "       -1.50815329,  1.09964698, -0.17773212, -0.41038331,  1.17971634,\n",
       "       -0.89820794,  0.83479542,  0.29656138, -1.03782988, -0.07580375,\n",
       "        0.97296353,  0.79559546,  1.49543425,  0.33818125,  3.37229625,\n",
       "       -0.92039081, -0.39863839, -0.06086409, -1.41875046,  1.04249162,\n",
       "        0.90353249,  0.01900033, -0.53441645, -1.49505387, -0.78925833,\n",
       "        0.74371128, -0.21216142, -0.42686879,  0.50144833,  1.15818665,\n",
       "        0.25711687,  0.3145129 ,  1.37186213,  0.17555329, -0.30928855,\n",
       "        0.6731255 , -0.25663018, -0.36782572,  1.27373362, -0.29195267,\n",
       "       -2.65517605,  0.34551794, -0.39551645, -0.28913686,  0.45293633,\n",
       "       -0.16606091,  0.21493883, -2.02231493, -0.94305681,  1.40395874,\n",
       "       -0.0185508 , -1.67350462, -1.07253183, -0.99258618,  0.10234768,\n",
       "       -0.43260928, -0.6591823 ,  0.0039373 ,  0.4777541 , -0.25902864,\n",
       "       -0.57470921, -0.42149822,  0.33982096, -0.00738015,  0.76729684,\n",
       "       -1.14979258, -0.77533611,  0.77314086, -0.80182784,  1.38401572])"
      ]
     },
     "execution_count": 67,
     "metadata": {},
     "output_type": "execute_result"
    }
   ],
   "source": [
    "# randn:normal distribution.\n",
    "np.random.randn(100)"
   ]
  },
  {
   "cell_type": "code",
   "execution_count": 79,
   "id": "816a7f50-a371-4734-8f46-f8effb814663",
   "metadata": {},
   "outputs": [
    {
     "data": {
      "text/plain": [
       "array([4, 1, 5, 2, 3])"
      ]
     },
     "execution_count": 79,
     "metadata": {},
     "output_type": "execute_result"
    }
   ],
   "source": [
    "arr=np.array([1,2,3,4,5])\n",
    "np.random.shuffle(arr)\n",
    "arr"
   ]
  },
  {
   "cell_type": "code",
   "execution_count": null,
   "id": "ae52cab4-4879-4cc5-9bac-e110334ad99f",
   "metadata": {},
   "outputs": [],
   "source": []
  },
  {
   "cell_type": "code",
   "execution_count": null,
   "id": "29f2ab73-66a9-4247-8622-058077796ed7",
   "metadata": {},
   "outputs": [],
   "source": []
  }
 ],
 "metadata": {
  "kernelspec": {
   "display_name": "Python 3 (ipykernel)",
   "language": "python",
   "name": "python3"
  },
  "language_info": {
   "codemirror_mode": {
    "name": "ipython",
    "version": 3
   },
   "file_extension": ".py",
   "mimetype": "text/x-python",
   "name": "python",
   "nbconvert_exporter": "python",
   "pygments_lexer": "ipython3",
   "version": "3.12.4"
  }
 },
 "nbformat": 4,
 "nbformat_minor": 5
}
