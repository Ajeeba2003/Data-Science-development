{
 "cells": [
  {
   "cell_type": "code",
   "execution_count": 1,
   "id": "b9054a01-d582-4600-82c2-e8b2a1707216",
   "metadata": {},
   "outputs": [],
   "source": [
    "#numpy task 01\n",
    "import numpy as np\n"
   ]
  },
  {
   "cell_type": "markdown",
   "id": "8bae3a77-1cc8-4b52-92e9-1bdf7f908048",
   "metadata": {},
   "source": [
    "Q1.\n",
    "1-dimensional array is the collection of 0-dimensional array.\n",
    "2-dimensional array is the collection of 1-dimensional array.\n",
    "3-dimensional array is the collection of 2-dimensional array.\n"
   ]
  },
  {
   "cell_type": "markdown",
   "id": "144d4efd-5817-4d69-b349-4746459f5f7f",
   "metadata": {},
   "source": [
    "Q2. Array is a homogeneous structure.whereas list is a hetrogeneous structure.\n",
    "araay has same kind of data type whereas list has different type of data type.\n",
    "Array is continuous whereas list is dis countinuous."
   ]
  },
  {
   "cell_type": "markdown",
   "id": "d82eccec-6f46-437b-9a33-7058520d286c",
   "metadata": {},
   "source": [
    "Q3.To access get an element from a 1-dimensional array we use index position of the element..\n",
    "example:\n"
   ]
  },
  {
   "cell_type": "code",
   "execution_count": 12,
   "id": "c011bfd5-c247-441e-8f20-33fd7d93e469",
   "metadata": {},
   "outputs": [
    {
     "data": {
      "text/plain": [
       "4"
      ]
     },
     "execution_count": 12,
     "metadata": {},
     "output_type": "execute_result"
    }
   ],
   "source": [
    "a=np.array([1,2,3,4,5])\n",
    "a[3]"
   ]
  },
  {
   "cell_type": "markdown",
   "id": "cce860c7-2192-4def-ab86-1fa6cb674d04",
   "metadata": {},
   "source": [
    "Q4.using arange function"
   ]
  },
  {
   "cell_type": "code",
   "execution_count": 17,
   "id": "7afd2cd6-f2b6-48e5-b05b-2c7ef5b8fba6",
   "metadata": {},
   "outputs": [
    {
     "data": {
      "text/plain": [
       "array([ 0,  1,  2,  3,  4,  5,  6,  7,  8,  9, 10, 11, 12, 13, 14, 15, 16,\n",
       "       17, 18, 19, 20])"
      ]
     },
     "execution_count": 17,
     "metadata": {},
     "output_type": "execute_result"
    }
   ],
   "source": [
    "\n",
    "arr=np.arange(0,21)\n",
    "arr\n"
   ]
  },
  {
   "cell_type": "markdown",
   "id": "d39d6486-94f1-4024-99a7-50f0fa086bfd",
   "metadata": {},
   "source": [
    "Q5.using reshape function.value error will arise since we cannot convert arr into 2x3 array\n"
   ]
  },
  {
   "cell_type": "code",
   "execution_count": 21,
   "id": "6dd2e979-91a8-41da-b73c-a22027665aaf",
   "metadata": {},
   "outputs": [
    {
     "ename": "ValueError",
     "evalue": "cannot reshape array of size 5 into shape (2,3)",
     "output_type": "error",
     "traceback": [
      "\u001b[1;31m---------------------------------------------------------------------------\u001b[0m",
      "\u001b[1;31mValueError\u001b[0m                                Traceback (most recent call last)",
      "Cell \u001b[1;32mIn[21], line 2\u001b[0m\n\u001b[0;32m      1\u001b[0m arr\u001b[38;5;241m=\u001b[39mnp\u001b[38;5;241m.\u001b[39marray([\u001b[38;5;241m1\u001b[39m,\u001b[38;5;241m2\u001b[39m,\u001b[38;5;241m3\u001b[39m,\u001b[38;5;241m4\u001b[39m,\u001b[38;5;241m5\u001b[39m])\n\u001b[1;32m----> 2\u001b[0m arr\u001b[38;5;241m.\u001b[39mreshape(\u001b[38;5;241m2\u001b[39m,\u001b[38;5;241m3\u001b[39m)\n",
      "\u001b[1;31mValueError\u001b[0m: cannot reshape array of size 5 into shape (2,3)"
     ]
    }
   ],
   "source": [
    "arr=np.array([1,2,3,4,5])\n",
    "arr.reshape(2,3)"
   ]
  },
  {
   "cell_type": "code",
   "execution_count": 24,
   "id": "0c15456b-1f42-4882-ae5b-10ef7dd93429",
   "metadata": {},
   "outputs": [
    {
     "data": {
      "text/plain": [
       "30"
      ]
     },
     "execution_count": 24,
     "metadata": {},
     "output_type": "execute_result"
    }
   ],
   "source": [
    "#Q6.\n",
    "arr=np.array([10,20,30,40,50])\n",
    "arr[2]"
   ]
  },
  {
   "cell_type": "code",
   "execution_count": 30,
   "id": "4e9a6afa-9a65-4e4c-81a6-c1470fc7bd88",
   "metadata": {},
   "outputs": [
    {
     "data": {
      "text/plain": [
       "8"
      ]
     },
     "execution_count": 30,
     "metadata": {},
     "output_type": "execute_result"
    }
   ],
   "source": [
    "#Q7.\n",
    "arr=np.array([[[1,2,3],[2,3,4],[3,4,5]],[[4,5,6],[5,6,7],[6,7,8]]])\n",
    "arr[1,2,2]"
   ]
  },
  {
   "cell_type": "code",
   "execution_count": 32,
   "id": "2a060698-6036-4707-9cd3-a6559095fcda",
   "metadata": {},
   "outputs": [
    {
     "data": {
      "text/plain": [
       "2"
      ]
     },
     "execution_count": 32,
     "metadata": {},
     "output_type": "execute_result"
    }
   ],
   "source": [
    "#Q8.\n",
    "arr=np.array([[1,2,3],[4,5,6]])\n",
    "arr.ndim"
   ]
  },
  {
   "cell_type": "code",
   "execution_count": 34,
   "id": "dab5a12c-bf04-4204-80e8-495d6b50d231",
   "metadata": {},
   "outputs": [
    {
     "data": {
      "text/plain": [
       "6"
      ]
     },
     "execution_count": 34,
     "metadata": {},
     "output_type": "execute_result"
    }
   ],
   "source": [
    "#Q9.\n",
    "arr=np.array([[1,2,3],[4,5,6]])\n",
    "arr[1,2]\n"
   ]
  },
  {
   "cell_type": "code",
   "execution_count": 38,
   "id": "410bcad2-894b-4654-8a9b-5abb4b6a1695",
   "metadata": {},
   "outputs": [
    {
     "data": {
      "text/plain": [
       "array([[[[[[1, 2, 3, 4],\n",
       "           [5, 6, 7, 8]]]]]])"
      ]
     },
     "execution_count": 38,
     "metadata": {},
     "output_type": "execute_result"
    }
   ],
   "source": [
    "#Q10.\n",
    "arr=np.array([[1,2,3,4],[5,6,7,8]],ndmin=6)\n",
    "arr"
   ]
  },
  {
   "cell_type": "code",
   "execution_count": 44,
   "id": "a340692e-f0f7-4993-bc87-27a77a459001",
   "metadata": {},
   "outputs": [
    {
     "name": "stdout",
     "output_type": "stream",
     "text": [
      "[ 10  20  30  40 100]\n"
     ]
    }
   ],
   "source": [
    "#Q11.\n",
    "arr=np.array([10,20,30,40,50])\n",
    "a=arr.copy()\n",
    "a[4]=100\n",
    "print(a)"
   ]
  },
  {
   "cell_type": "code",
   "execution_count": 46,
   "id": "ef35d05e-1138-4b28-bed3-f5a9d97dc0e5",
   "metadata": {},
   "outputs": [
    {
     "name": "stdout",
     "output_type": "stream",
     "text": [
      "2\n",
      "4\n",
      "6\n",
      "8\n"
     ]
    }
   ],
   "source": [
    "#Q12.\n",
    "a=np.array([1,2,3,4,5,6,7,8,9])\n",
    "for i in a:\n",
    "    if i%2==0:\n",
    "        print(i)"
   ]
  },
  {
   "cell_type": "code",
   "execution_count": 50,
   "id": "39340b0a-55e5-490b-8257-6f19f4103ee0",
   "metadata": {},
   "outputs": [
    {
     "data": {
      "text/plain": [
       "3"
      ]
     },
     "execution_count": 50,
     "metadata": {},
     "output_type": "execute_result"
    }
   ],
   "source": [
    "#Q13.\n",
    "a=np.array([1,2,3,4,5])\n",
    "a[2]"
   ]
  },
  {
   "cell_type": "code",
   "execution_count": 62,
   "id": "d74af807-0f60-4e7b-b434-d3c4f4d0d685",
   "metadata": {},
   "outputs": [
    {
     "name": "stdout",
     "output_type": "stream",
     "text": [
      "[-3 -3  3  4  5]\n"
     ]
    }
   ],
   "source": [
    "#Q14.\n",
    "a=np.array([1,2,3,4,5])\n",
    "b=np.array([6,7,8,9,10])\n",
    "c=np.where(a<3,-3,a)\n",
    "print(c)\n",
    "d=np.hstack((c,b))"
   ]
  },
  {
   "cell_type": "code",
   "execution_count": 74,
   "id": "1baeecb9-7083-4b36-a10d-7cdc4cee41cc",
   "metadata": {},
   "outputs": [
    {
     "name": "stdout",
     "output_type": "stream",
     "text": [
      "[ 0.   0.5  1.   1.5  2.   2.5  3.   3.5  4.   4.5  5.   5.5  6.   6.5\n",
      "  7.   7.5  8.   8.5  9.   9.5 10. ]\n"
     ]
    },
    {
     "data": {
      "text/plain": [
       "array([ 5.5,  6. ,  6.5,  7. ,  7.5,  8. ,  8.5,  9. ,  9.5, 10. ])"
      ]
     },
     "execution_count": 74,
     "metadata": {},
     "output_type": "execute_result"
    }
   ],
   "source": [
    "#Q15.\n",
    "a=np.arange(0,10.5,0.5)\n",
    "print(a)\n",
    "filter_arr=[]\n",
    "for i in a:\n",
    "    if i>5:\n",
    "        filter_arr.append(True)\n",
    "    else:\n",
    "        filter_arr.append(False)\n",
    "new_arr=a[filter_arr]\n",
    "new_arr"
   ]
  },
  {
   "cell_type": "code",
   "execution_count": null,
   "id": "8de69bbf-d697-470e-b23e-8797492bb456",
   "metadata": {},
   "outputs": [],
   "source": []
  }
 ],
 "metadata": {
  "kernelspec": {
   "display_name": "Python 3 (ipykernel)",
   "language": "python",
   "name": "python3"
  },
  "language_info": {
   "codemirror_mode": {
    "name": "ipython",
    "version": 3
   },
   "file_extension": ".py",
   "mimetype": "text/x-python",
   "name": "python",
   "nbconvert_exporter": "python",
   "pygments_lexer": "ipython3",
   "version": "3.12.4"
  }
 },
 "nbformat": 4,
 "nbformat_minor": 5
}
