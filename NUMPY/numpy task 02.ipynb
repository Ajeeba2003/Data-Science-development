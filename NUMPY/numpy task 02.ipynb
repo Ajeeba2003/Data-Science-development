{
 "cells": [
  {
   "cell_type": "markdown",
   "id": "38ae12d1-4ce9-43fd-9529-0381b19a3e59",
   "metadata": {},
   "source": [
    "#Task 02\n"
   ]
  },
  {
   "cell_type": "code",
   "execution_count": 9,
   "id": "85975119-901a-43a8-a585-4e430f0e441e",
   "metadata": {},
   "outputs": [
    {
     "name": "stdout",
     "output_type": "stream",
     "text": [
      "[26 24 42 30 49 10 16 12 19 29 15 33 15 40 35 31 36 15 18 13 38 18 49 42]\n"
     ]
    },
    {
     "data": {
      "text/plain": [
       "array([[[26, 24, 42, 30],\n",
       "        [49, 10, 16, 12],\n",
       "        [19, 29, 15, 33]],\n",
       "\n",
       "       [[15, 40, 35, 31],\n",
       "        [36, 15, 18, 13],\n",
       "        [38, 18, 49, 42]]])"
      ]
     },
     "execution_count": 9,
     "metadata": {},
     "output_type": "execute_result"
    }
   ],
   "source": [
    "import numpy as np\n",
    "#Q1.\n",
    "a=np.random.randint(10,50,24)\n",
    "print(a)\n",
    "b=a.reshape(2,3,4)\n",
    "b\n",
    "\n"
   ]
  },
  {
   "cell_type": "code",
   "execution_count": 15,
   "id": "41e19cb6-4445-4c2b-b6f5-0ad688a20c9a",
   "metadata": {},
   "outputs": [
    {
     "name": "stdout",
     "output_type": "stream",
     "text": [
      "[5 7 9]\n",
      "[-3 -3 -3]\n",
      "[ 4 10 18]\n",
      "[0.25 0.4  0.5 ]\n"
     ]
    }
   ],
   "source": [
    "#Q2.\n",
    "a=np.array([1,2,3])\n",
    "b=np.array([4,5,6])\n",
    "sum=np.add(a,b)\n",
    "sub=np.subtract(a,b)\n",
    "product=np.multiply(a,b)\n",
    "quotient=np.divide(a,b)\n",
    "print(sum)\n",
    "print(sub)\n",
    "print(product)\n",
    "print(quotient)\n"
   ]
  },
  {
   "cell_type": "code",
   "execution_count": 17,
   "id": "ca825d82-8949-4701-a174-1a43c532c444",
   "metadata": {},
   "outputs": [
    {
     "data": {
      "text/plain": [
       "array([[1, 1, 1],\n",
       "       [1, 1, 1],\n",
       "       [1, 1, 1]])"
      ]
     },
     "execution_count": 17,
     "metadata": {},
     "output_type": "execute_result"
    }
   ],
   "source": [
    "#Q3.\n",
    "arr=np.ones((3,3),dtype='int')\n",
    "arr"
   ]
  },
  {
   "cell_type": "code",
   "execution_count": 25,
   "id": "9b92c794-a1d3-4407-9d6d-985c5b9e3571",
   "metadata": {},
   "outputs": [
    {
     "name": "stdout",
     "output_type": "stream",
     "text": [
      "[[1 2 3]\n",
      " [4 5 6]\n",
      " [7 8 9]]\n",
      "flatten array: [1 2 3 4 5 6 7 8 9]\n"
     ]
    }
   ],
   "source": [
    "#Q4.\n",
    "a=np.array([1,2,3,4,5,6,7,8,9])\n",
    "b=a.reshape(3,3)\n",
    "print(b)\n",
    "c=b.reshape(-1)\n",
    "print(\"flatten array:\",c)"
   ]
  },
  {
   "cell_type": "code",
   "execution_count": 29,
   "id": "c8551e2f-1d56-4e5f-8e56-61a680d6f9e0",
   "metadata": {},
   "outputs": [
    {
     "name": "stdout",
     "output_type": "stream",
     "text": [
      "Horizontal stack: [[1 2 5 6]\n",
      " [3 4 7 8]]\n",
      "Vertical satck: [[1 2]\n",
      " [3 4]\n",
      " [5 6]\n",
      " [7 8]]\n"
     ]
    }
   ],
   "source": [
    "#Q5.\n",
    "a=np.array([[1,2],[3,4]])\n",
    "b=np.array([[5,6],[7,8]])\n",
    "c=np.hstack((a,b))\n",
    "d=np.vstack((a,b))\n",
    "print(\"Horizontal stack:\",c)\n",
    "print(\"Vertical satck:\",d)"
   ]
  },
  {
   "cell_type": "code",
   "execution_count": 31,
   "id": "c043ecbc-24b6-4a1b-93eb-a8da490a3b04",
   "metadata": {},
   "outputs": [
    {
     "data": {
      "text/plain": [
       "[array([1, 2, 3, 4, 5]), array([ 6,  7,  8,  9, 10])]"
      ]
     },
     "execution_count": 31,
     "metadata": {},
     "output_type": "execute_result"
    }
   ],
   "source": [
    "#Q6.\n",
    "a=np.array([1,2,3,4,5,6,7,8,9,10])\n",
    "c=np.array_split(a,2)\n",
    "c\n"
   ]
  },
  {
   "cell_type": "code",
   "execution_count": 35,
   "id": "2dc40701-c01b-45bf-a9b4-236a8f4a7732",
   "metadata": {},
   "outputs": [
    {
     "data": {
      "text/plain": [
       "array([4, 5, 6])"
      ]
     },
     "execution_count": 35,
     "metadata": {},
     "output_type": "execute_result"
    }
   ],
   "source": [
    "#Q7.\n",
    "a=np.array([[1,2,3],[4,5,6],[7,8,9]])\n",
    "a[1]"
   ]
  },
  {
   "cell_type": "code",
   "execution_count": 37,
   "id": "2c26e2ab-8387-441d-8863-c4d9bcafa652",
   "metadata": {},
   "outputs": [
    {
     "data": {
      "text/plain": [
       "array([10, 30, 50])"
      ]
     },
     "execution_count": 37,
     "metadata": {},
     "output_type": "execute_result"
    }
   ],
   "source": [
    "#Q8.\n",
    "a=np.array([10,20,30,40,50])\n",
    "a[0:5:2]\n"
   ]
  },
  {
   "cell_type": "code",
   "execution_count": 43,
   "id": "f7fb916c-05d8-4d3c-9e6d-777864b44407",
   "metadata": {},
   "outputs": [
    {
     "name": "stdout",
     "output_type": "stream",
     "text": [
      "sum of the array: 15\n",
      "mean of the array: 3.0\n",
      "standard deviation of the array: 1.4142135623730951\n"
     ]
    }
   ],
   "source": [
    "#Q9.\n",
    "a=np.array([1,2,3,4,5])\n",
    "sum=np.sum(a)\n",
    "mean=np.mean(a)\n",
    "sd=np.std(a)\n",
    "print(\"sum of the array:\",sum)\n",
    "print(\"mean of the array:\",mean)\n",
    "print(\"standard deviation of the array:\",sd)\n"
   ]
  },
  {
   "cell_type": "code",
   "execution_count": 47,
   "id": "2d1e2b03-6b14-4107-a787-081ef4f368ce",
   "metadata": {},
   "outputs": [
    {
     "name": "stdout",
     "output_type": "stream",
     "text": [
      "[7 8 9]\n",
      "[3 6 9]\n",
      "[1 2 3]\n",
      "[1 4 7]\n"
     ]
    }
   ],
   "source": [
    "#Q10.\n",
    "a=np.array([[1,2,3],[4,5,6],[7,8,9]])\n",
    "c=np.max(a,axis=0)\n",
    "b=np.max(a,axis=1)\n",
    "d=np.min(a,axis=0)\n",
    "e=np.min(a,axis=1)\n",
    "print(c)\n",
    "print(b)\n",
    "print(d)\n",
    "print(e)"
   ]
  },
  {
   "cell_type": "code",
   "execution_count": 55,
   "id": "863fb640-3661-4752-b37d-737f640f9db8",
   "metadata": {},
   "outputs": [
    {
     "data": {
      "text/plain": [
       "array([[1, 3, 4, 2, 5, 6],\n",
       "       [1, 5, 9, 0, 7, 8]])"
      ]
     },
     "execution_count": 55,
     "metadata": {},
     "output_type": "execute_result"
    }
   ],
   "source": [
    "#Q11.\n",
    "a=np.array([[3,1,4],[1,5,9]])\n",
    "b=np.array([[2,6,5],[7,8,0]])\n",
    "c=np.sort(a)\n",
    "d=np.sort(b)\n",
    "e=np.hstack((c,d))\n",
    "e"
   ]
  },
  {
   "cell_type": "code",
   "execution_count": 67,
   "id": "fb7b143f-ce7c-4725-bca4-e5653f0f306a",
   "metadata": {},
   "outputs": [
    {
     "name": "stdout",
     "output_type": "stream",
     "text": [
      "(array([0, 1], dtype=int64),)\n",
      "(array([7, 8, 9], dtype=int64),)\n"
     ]
    }
   ],
   "source": [
    "#Q12.\n",
    "a=np.array([1,2,3,4,5,6,7,8,9,10])\n",
    "b=np.where(a<3)\n",
    "c=np.where(a>7)\n",
    "print(b)\n",
    "print(c)\n",
    "\n",
    "\n"
   ]
  },
  {
   "cell_type": "code",
   "execution_count": 71,
   "id": "7cfb306c-8654-4ba2-b3c6-bbf48239271b",
   "metadata": {},
   "outputs": [
    {
     "name": "stdout",
     "output_type": "stream",
     "text": [
      "(array([0, 0, 0, 1], dtype=int64), array([1, 2, 6, 6], dtype=int64))\n",
      "[30 32 31 29 28 30 31 25 26 27 28 29 30 31]\n"
     ]
    }
   ],
   "source": [
    "#Q13.\n",
    "a=np.array([[30,32,31,29,28,30,31],[25,26,27,28,29,30,31]])\n",
    "b=np.where(a>30)\n",
    "print(b)\n",
    "c=np.hstack(a)\n",
    "print(c)\n"
   ]
  },
  {
   "cell_type": "code",
   "execution_count": 73,
   "id": "3842868c-4f3f-428c-85c5-246f2ad6273a",
   "metadata": {},
   "outputs": [],
   "source": [
    "#Q14.\n"
   ]
  },
  {
   "cell_type": "code",
   "execution_count": 75,
   "id": "527c2b01-bcf2-4dba-8b37-ea735f25babc",
   "metadata": {},
   "outputs": [
    {
     "data": {
      "text/plain": [
       "array([ 3,  6,  9, 12, 15, 18])"
      ]
     },
     "execution_count": 75,
     "metadata": {},
     "output_type": "execute_result"
    }
   ],
   "source": [
    "#Q15.\n",
    "a=np.array([1,2,3,4,5,6,7,8,9,10,11,12,13,14,15,16,17,18])\n",
    "filter_array=a%3==0\n",
    "arr=a[filter_array]\n",
    "arr\n"
   ]
  },
  {
   "cell_type": "code",
   "execution_count": null,
   "id": "b013cdfa-1191-4e8d-8df3-4c5e45f0301b",
   "metadata": {},
   "outputs": [],
   "source": []
  }
 ],
 "metadata": {
  "kernelspec": {
   "display_name": "Python 3 (ipykernel)",
   "language": "python",
   "name": "python3"
  },
  "language_info": {
   "codemirror_mode": {
    "name": "ipython",
    "version": 3
   },
   "file_extension": ".py",
   "mimetype": "text/x-python",
   "name": "python",
   "nbconvert_exporter": "python",
   "pygments_lexer": "ipython3",
   "version": "3.12.4"
  }
 },
 "nbformat": 4,
 "nbformat_minor": 5
}
